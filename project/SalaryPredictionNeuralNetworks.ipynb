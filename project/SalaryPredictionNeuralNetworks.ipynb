{
 "cells": [
  {
   "cell_type": "markdown",
   "metadata": {},
   "source": [
    "# Introduction\n",
    "\n",
    "In this notebook we use Google's Tensorflow library to classify the employee salary into different groups of range.\n"
   ]
  },
  {
   "cell_type": "markdown",
   "metadata": {},
   "source": [
    "## Importing Libraries"
   ]
  },
  {
   "cell_type": "code",
   "execution_count": 641,
   "metadata": {},
   "outputs": [],
   "source": [
    "import numpy as np\n",
    "import pandas as pd\n",
    "import matplotlib.pyplot as plt\n",
    "import seaborn as sns\n",
    "\n",
    "# Make NumPy printouts easier to read.\n",
    "np.set_printoptions(precision=3, suppress=True)\n",
    "\n",
    "from sklearn import preprocessing\n",
    "\n",
    "import tensorflow as tf\n",
    "\n",
    "from tensorflow.keras.layers import Dense, Normalization\n",
    "from tensorflow.keras.models import Model\n",
    "\n",
    "from scipy import stats\n"
   ]
  },
  {
   "cell_type": "markdown",
   "metadata": {},
   "source": [
    "## The data\n",
    "\n",
    "### Reading the data\n",
    "\n",
    "Reading the dataset into a Pandas Dataframe Object"
   ]
  },
  {
   "cell_type": "code",
   "execution_count": 642,
   "metadata": {},
   "outputs": [
    {
     "data": {
      "text/html": [
       "<div>\n",
       "<style scoped>\n",
       "    .dataframe tbody tr th:only-of-type {\n",
       "        vertical-align: middle;\n",
       "    }\n",
       "\n",
       "    .dataframe tbody tr th {\n",
       "        vertical-align: top;\n",
       "    }\n",
       "\n",
       "    .dataframe thead th {\n",
       "        text-align: right;\n",
       "    }\n",
       "</style>\n",
       "<table border=\"1\" class=\"dataframe\">\n",
       "  <thead>\n",
       "    <tr style=\"text-align: right;\">\n",
       "      <th></th>\n",
       "      <th>age</th>\n",
       "      <th>work-class</th>\n",
       "      <th>work-fnl</th>\n",
       "      <th>education</th>\n",
       "      <th>education-num</th>\n",
       "      <th>marital-status</th>\n",
       "      <th>position</th>\n",
       "      <th>relationship</th>\n",
       "      <th>race</th>\n",
       "      <th>sex</th>\n",
       "      <th>capital-gain</th>\n",
       "      <th>capital-loss</th>\n",
       "      <th>hours-per-week</th>\n",
       "      <th>native-country</th>\n",
       "      <th>salary</th>\n",
       "    </tr>\n",
       "  </thead>\n",
       "  <tbody>\n",
       "    <tr>\n",
       "      <th>0</th>\n",
       "      <td>39</td>\n",
       "      <td>State-gov</td>\n",
       "      <td>77516</td>\n",
       "      <td>Bachelors</td>\n",
       "      <td>13</td>\n",
       "      <td>Never-married</td>\n",
       "      <td>Adm-clerical</td>\n",
       "      <td>Not-in-family</td>\n",
       "      <td>White</td>\n",
       "      <td>Male</td>\n",
       "      <td>2174</td>\n",
       "      <td>0</td>\n",
       "      <td>40</td>\n",
       "      <td>United-States</td>\n",
       "      <td>&lt;=50K</td>\n",
       "    </tr>\n",
       "    <tr>\n",
       "      <th>1</th>\n",
       "      <td>50</td>\n",
       "      <td>Self-emp-not-inc</td>\n",
       "      <td>83311</td>\n",
       "      <td>Bachelors</td>\n",
       "      <td>13</td>\n",
       "      <td>Married-civ-spouse</td>\n",
       "      <td>Exec-managerial</td>\n",
       "      <td>Husband</td>\n",
       "      <td>White</td>\n",
       "      <td>Male</td>\n",
       "      <td>0</td>\n",
       "      <td>0</td>\n",
       "      <td>13</td>\n",
       "      <td>United-States</td>\n",
       "      <td>&lt;=50K</td>\n",
       "    </tr>\n",
       "    <tr>\n",
       "      <th>2</th>\n",
       "      <td>38</td>\n",
       "      <td>Private</td>\n",
       "      <td>215646</td>\n",
       "      <td>HS-grad</td>\n",
       "      <td>9</td>\n",
       "      <td>Divorced</td>\n",
       "      <td>Handlers-cleaners</td>\n",
       "      <td>Not-in-family</td>\n",
       "      <td>White</td>\n",
       "      <td>Male</td>\n",
       "      <td>0</td>\n",
       "      <td>0</td>\n",
       "      <td>40</td>\n",
       "      <td>United-States</td>\n",
       "      <td>&lt;=50K</td>\n",
       "    </tr>\n",
       "    <tr>\n",
       "      <th>3</th>\n",
       "      <td>53</td>\n",
       "      <td>Private</td>\n",
       "      <td>234721</td>\n",
       "      <td>11th</td>\n",
       "      <td>7</td>\n",
       "      <td>Married-civ-spouse</td>\n",
       "      <td>Handlers-cleaners</td>\n",
       "      <td>Husband</td>\n",
       "      <td>Black</td>\n",
       "      <td>Male</td>\n",
       "      <td>0</td>\n",
       "      <td>0</td>\n",
       "      <td>40</td>\n",
       "      <td>United-States</td>\n",
       "      <td>&lt;=50K</td>\n",
       "    </tr>\n",
       "    <tr>\n",
       "      <th>4</th>\n",
       "      <td>28</td>\n",
       "      <td>Private</td>\n",
       "      <td>338409</td>\n",
       "      <td>Bachelors</td>\n",
       "      <td>13</td>\n",
       "      <td>Married-civ-spouse</td>\n",
       "      <td>Prof-specialty</td>\n",
       "      <td>Wife</td>\n",
       "      <td>Black</td>\n",
       "      <td>Female</td>\n",
       "      <td>0</td>\n",
       "      <td>0</td>\n",
       "      <td>40</td>\n",
       "      <td>Cuba</td>\n",
       "      <td>&lt;=50K</td>\n",
       "    </tr>\n",
       "  </tbody>\n",
       "</table>\n",
       "</div>"
      ],
      "text/plain": [
       "   age         work-class  work-fnl   education  education-num  \\\n",
       "0   39          State-gov     77516   Bachelors             13   \n",
       "1   50   Self-emp-not-inc     83311   Bachelors             13   \n",
       "2   38            Private    215646     HS-grad              9   \n",
       "3   53            Private    234721        11th              7   \n",
       "4   28            Private    338409   Bachelors             13   \n",
       "\n",
       "        marital-status            position    relationship    race      sex  \\\n",
       "0        Never-married        Adm-clerical   Not-in-family   White     Male   \n",
       "1   Married-civ-spouse     Exec-managerial         Husband   White     Male   \n",
       "2             Divorced   Handlers-cleaners   Not-in-family   White     Male   \n",
       "3   Married-civ-spouse   Handlers-cleaners         Husband   Black     Male   \n",
       "4   Married-civ-spouse      Prof-specialty            Wife   Black   Female   \n",
       "\n",
       "   capital-gain  capital-loss  hours-per-week  native-country  salary  \n",
       "0          2174             0              40   United-States   <=50K  \n",
       "1             0             0              13   United-States   <=50K  \n",
       "2             0             0              40   United-States   <=50K  \n",
       "3             0             0              40   United-States   <=50K  \n",
       "4             0             0              40            Cuba   <=50K  "
      ]
     },
     "execution_count": 642,
     "metadata": {},
     "output_type": "execute_result"
    }
   ],
   "source": [
    "data = pd.read_csv(\"data.csv\")\n",
    "data.head()"
   ]
  },
  {
   "cell_type": "markdown",
   "metadata": {},
   "source": [
    "### Cleaning the data"
   ]
  },
  {
   "cell_type": "markdown",
   "metadata": {},
   "source": [
    "#### Droping the unnecessary columns\n",
    "\n",
    "The column 'education-num' is a label-encoded version of the column 'education' with ordinality taken into account, which means that the column 'education' is not needed."
   ]
  },
  {
   "cell_type": "code",
   "execution_count": 643,
   "metadata": {},
   "outputs": [
    {
     "data": {
      "text/html": [
       "<div>\n",
       "<style scoped>\n",
       "    .dataframe tbody tr th:only-of-type {\n",
       "        vertical-align: middle;\n",
       "    }\n",
       "\n",
       "    .dataframe tbody tr th {\n",
       "        vertical-align: top;\n",
       "    }\n",
       "\n",
       "    .dataframe thead th {\n",
       "        text-align: right;\n",
       "    }\n",
       "</style>\n",
       "<table border=\"1\" class=\"dataframe\">\n",
       "  <thead>\n",
       "    <tr style=\"text-align: right;\">\n",
       "      <th></th>\n",
       "      <th>age</th>\n",
       "      <th>work-class</th>\n",
       "      <th>work-fnl</th>\n",
       "      <th>education-num</th>\n",
       "      <th>marital-status</th>\n",
       "      <th>position</th>\n",
       "      <th>relationship</th>\n",
       "      <th>race</th>\n",
       "      <th>sex</th>\n",
       "      <th>capital-gain</th>\n",
       "      <th>capital-loss</th>\n",
       "      <th>hours-per-week</th>\n",
       "      <th>native-country</th>\n",
       "      <th>salary</th>\n",
       "    </tr>\n",
       "  </thead>\n",
       "  <tbody>\n",
       "    <tr>\n",
       "      <th>0</th>\n",
       "      <td>39</td>\n",
       "      <td>State-gov</td>\n",
       "      <td>77516</td>\n",
       "      <td>13</td>\n",
       "      <td>Never-married</td>\n",
       "      <td>Adm-clerical</td>\n",
       "      <td>Not-in-family</td>\n",
       "      <td>White</td>\n",
       "      <td>Male</td>\n",
       "      <td>2174</td>\n",
       "      <td>0</td>\n",
       "      <td>40</td>\n",
       "      <td>United-States</td>\n",
       "      <td>&lt;=50K</td>\n",
       "    </tr>\n",
       "    <tr>\n",
       "      <th>1</th>\n",
       "      <td>50</td>\n",
       "      <td>Self-emp-not-inc</td>\n",
       "      <td>83311</td>\n",
       "      <td>13</td>\n",
       "      <td>Married-civ-spouse</td>\n",
       "      <td>Exec-managerial</td>\n",
       "      <td>Husband</td>\n",
       "      <td>White</td>\n",
       "      <td>Male</td>\n",
       "      <td>0</td>\n",
       "      <td>0</td>\n",
       "      <td>13</td>\n",
       "      <td>United-States</td>\n",
       "      <td>&lt;=50K</td>\n",
       "    </tr>\n",
       "    <tr>\n",
       "      <th>2</th>\n",
       "      <td>38</td>\n",
       "      <td>Private</td>\n",
       "      <td>215646</td>\n",
       "      <td>9</td>\n",
       "      <td>Divorced</td>\n",
       "      <td>Handlers-cleaners</td>\n",
       "      <td>Not-in-family</td>\n",
       "      <td>White</td>\n",
       "      <td>Male</td>\n",
       "      <td>0</td>\n",
       "      <td>0</td>\n",
       "      <td>40</td>\n",
       "      <td>United-States</td>\n",
       "      <td>&lt;=50K</td>\n",
       "    </tr>\n",
       "    <tr>\n",
       "      <th>3</th>\n",
       "      <td>53</td>\n",
       "      <td>Private</td>\n",
       "      <td>234721</td>\n",
       "      <td>7</td>\n",
       "      <td>Married-civ-spouse</td>\n",
       "      <td>Handlers-cleaners</td>\n",
       "      <td>Husband</td>\n",
       "      <td>Black</td>\n",
       "      <td>Male</td>\n",
       "      <td>0</td>\n",
       "      <td>0</td>\n",
       "      <td>40</td>\n",
       "      <td>United-States</td>\n",
       "      <td>&lt;=50K</td>\n",
       "    </tr>\n",
       "    <tr>\n",
       "      <th>4</th>\n",
       "      <td>28</td>\n",
       "      <td>Private</td>\n",
       "      <td>338409</td>\n",
       "      <td>13</td>\n",
       "      <td>Married-civ-spouse</td>\n",
       "      <td>Prof-specialty</td>\n",
       "      <td>Wife</td>\n",
       "      <td>Black</td>\n",
       "      <td>Female</td>\n",
       "      <td>0</td>\n",
       "      <td>0</td>\n",
       "      <td>40</td>\n",
       "      <td>Cuba</td>\n",
       "      <td>&lt;=50K</td>\n",
       "    </tr>\n",
       "  </tbody>\n",
       "</table>\n",
       "</div>"
      ],
      "text/plain": [
       "   age         work-class  work-fnl  education-num       marital-status  \\\n",
       "0   39          State-gov     77516             13        Never-married   \n",
       "1   50   Self-emp-not-inc     83311             13   Married-civ-spouse   \n",
       "2   38            Private    215646              9             Divorced   \n",
       "3   53            Private    234721              7   Married-civ-spouse   \n",
       "4   28            Private    338409             13   Married-civ-spouse   \n",
       "\n",
       "             position    relationship    race      sex  capital-gain  \\\n",
       "0        Adm-clerical   Not-in-family   White     Male          2174   \n",
       "1     Exec-managerial         Husband   White     Male             0   \n",
       "2   Handlers-cleaners   Not-in-family   White     Male             0   \n",
       "3   Handlers-cleaners         Husband   Black     Male             0   \n",
       "4      Prof-specialty            Wife   Black   Female             0   \n",
       "\n",
       "   capital-loss  hours-per-week  native-country  salary  \n",
       "0             0              40   United-States   <=50K  \n",
       "1             0              13   United-States   <=50K  \n",
       "2             0              40   United-States   <=50K  \n",
       "3             0              40   United-States   <=50K  \n",
       "4             0              40            Cuba   <=50K  "
      ]
     },
     "execution_count": 643,
     "metadata": {},
     "output_type": "execute_result"
    }
   ],
   "source": [
    "data = data.drop('education', axis=1)\n",
    "data.head()"
   ]
  },
  {
   "cell_type": "markdown",
   "metadata": {},
   "source": [
    "#### Handling Null Values\n",
    "\n",
    "There's no null values in the dataset, however there are \"?\" values which needs to be handled."
   ]
  },
  {
   "cell_type": "code",
   "execution_count": 644,
   "metadata": {},
   "outputs": [
    {
     "data": {
      "text/plain": [
       "0"
      ]
     },
     "execution_count": 644,
     "metadata": {},
     "output_type": "execute_result"
    }
   ],
   "source": [
    "data.isna().sum().max()"
   ]
  },
  {
   "cell_type": "markdown",
   "metadata": {},
   "source": [
    "We first need to remove trailing and leading spaces from column values."
   ]
  },
  {
   "cell_type": "code",
   "execution_count": 645,
   "metadata": {},
   "outputs": [],
   "source": [
    "data = data.applymap(lambda x: x.strip() if isinstance(x, str) else x)"
   ]
  },
  {
   "cell_type": "markdown",
   "metadata": {},
   "source": [
    "Then we drop rows containing \"?\"."
   ]
  },
  {
   "cell_type": "code",
   "execution_count": 646,
   "metadata": {},
   "outputs": [],
   "source": [
    "data = data[~(data.T == '?').any()]"
   ]
  },
  {
   "cell_type": "markdown",
   "metadata": {},
   "source": [
    "#### Handling Duplicate Rows"
   ]
  },
  {
   "cell_type": "code",
   "execution_count": 647,
   "metadata": {},
   "outputs": [
    {
     "data": {
      "text/plain": [
       "(21108, 14)"
      ]
     },
     "execution_count": 647,
     "metadata": {},
     "output_type": "execute_result"
    }
   ],
   "source": [
    "data = data.drop_duplicates()\n",
    "data.shape"
   ]
  },
  {
   "cell_type": "markdown",
   "metadata": {},
   "source": [
    "#### Handling Categorical values\n",
    "\n",
    "The columns `work-class`, `marital-status`, `position`, `relationship`, `race`, `sex`, `native-country` and `salary` are categorical. We need to convert them to numeric values."
   ]
  },
  {
   "cell_type": "markdown",
   "metadata": {},
   "source": [
    "Since most categorical columns have less than 10 unique values, we can use one hot encoding in favor of label encoding to avoid any bias the model might have with nominal values.\n"
   ]
  },
  {
   "cell_type": "code",
   "execution_count": 648,
   "metadata": {},
   "outputs": [],
   "source": [
    "data = pd.get_dummies(data, columns=['position'], prefix='position')\n",
    "data = pd.get_dummies(data, columns=['native-country'], prefix='country')\n",
    "data = pd.get_dummies(data, columns=['work-class'], prefix='work')\n",
    "data = pd.get_dummies(data, columns=['marital-status'], prefix='marital')\n",
    "data = pd.get_dummies(data, columns=['relationship'], prefix='relationship')\n",
    "data = pd.get_dummies(data, columns=['race'], prefix='race')\n",
    "data = pd.get_dummies(data, columns=['sex'], prefix='sex')\n",
    "\n",
    "data.insert(63, 'work_Never-worked', 0)"
   ]
  },
  {
   "cell_type": "markdown",
   "metadata": {},
   "source": [
    "position and native-country have more than 10 unique values, so we use label encoding for them."
   ]
  },
  {
   "cell_type": "code",
   "execution_count": 649,
   "metadata": {},
   "outputs": [
    {
     "data": {
      "text/html": [
       "<div>\n",
       "<style scoped>\n",
       "    .dataframe tbody tr th:only-of-type {\n",
       "        vertical-align: middle;\n",
       "    }\n",
       "\n",
       "    .dataframe tbody tr th {\n",
       "        vertical-align: top;\n",
       "    }\n",
       "\n",
       "    .dataframe thead th {\n",
       "        text-align: right;\n",
       "    }\n",
       "</style>\n",
       "<table border=\"1\" class=\"dataframe\">\n",
       "  <thead>\n",
       "    <tr style=\"text-align: right;\">\n",
       "      <th></th>\n",
       "      <th>age</th>\n",
       "      <th>work-fnl</th>\n",
       "      <th>education-num</th>\n",
       "      <th>capital-gain</th>\n",
       "      <th>capital-loss</th>\n",
       "      <th>hours-per-week</th>\n",
       "      <th>salary</th>\n",
       "      <th>position_Adm-clerical</th>\n",
       "      <th>position_Armed-Forces</th>\n",
       "      <th>position_Craft-repair</th>\n",
       "      <th>...</th>\n",
       "      <th>relationship_Own-child</th>\n",
       "      <th>relationship_Unmarried</th>\n",
       "      <th>relationship_Wife</th>\n",
       "      <th>race_Amer-Indian-Eskimo</th>\n",
       "      <th>race_Asian-Pac-Islander</th>\n",
       "      <th>race_Black</th>\n",
       "      <th>race_Other</th>\n",
       "      <th>race_White</th>\n",
       "      <th>sex_Female</th>\n",
       "      <th>sex_Male</th>\n",
       "    </tr>\n",
       "  </thead>\n",
       "  <tbody>\n",
       "    <tr>\n",
       "      <th>0</th>\n",
       "      <td>39</td>\n",
       "      <td>77516</td>\n",
       "      <td>13</td>\n",
       "      <td>2174</td>\n",
       "      <td>0</td>\n",
       "      <td>40</td>\n",
       "      <td>0</td>\n",
       "      <td>1</td>\n",
       "      <td>0</td>\n",
       "      <td>0</td>\n",
       "      <td>...</td>\n",
       "      <td>0</td>\n",
       "      <td>0</td>\n",
       "      <td>0</td>\n",
       "      <td>0</td>\n",
       "      <td>0</td>\n",
       "      <td>0</td>\n",
       "      <td>0</td>\n",
       "      <td>1</td>\n",
       "      <td>0</td>\n",
       "      <td>1</td>\n",
       "    </tr>\n",
       "    <tr>\n",
       "      <th>1</th>\n",
       "      <td>50</td>\n",
       "      <td>83311</td>\n",
       "      <td>13</td>\n",
       "      <td>0</td>\n",
       "      <td>0</td>\n",
       "      <td>13</td>\n",
       "      <td>0</td>\n",
       "      <td>0</td>\n",
       "      <td>0</td>\n",
       "      <td>0</td>\n",
       "      <td>...</td>\n",
       "      <td>0</td>\n",
       "      <td>0</td>\n",
       "      <td>0</td>\n",
       "      <td>0</td>\n",
       "      <td>0</td>\n",
       "      <td>0</td>\n",
       "      <td>0</td>\n",
       "      <td>1</td>\n",
       "      <td>0</td>\n",
       "      <td>1</td>\n",
       "    </tr>\n",
       "    <tr>\n",
       "      <th>2</th>\n",
       "      <td>38</td>\n",
       "      <td>215646</td>\n",
       "      <td>9</td>\n",
       "      <td>0</td>\n",
       "      <td>0</td>\n",
       "      <td>40</td>\n",
       "      <td>0</td>\n",
       "      <td>0</td>\n",
       "      <td>0</td>\n",
       "      <td>0</td>\n",
       "      <td>...</td>\n",
       "      <td>0</td>\n",
       "      <td>0</td>\n",
       "      <td>0</td>\n",
       "      <td>0</td>\n",
       "      <td>0</td>\n",
       "      <td>0</td>\n",
       "      <td>0</td>\n",
       "      <td>1</td>\n",
       "      <td>0</td>\n",
       "      <td>1</td>\n",
       "    </tr>\n",
       "    <tr>\n",
       "      <th>3</th>\n",
       "      <td>53</td>\n",
       "      <td>234721</td>\n",
       "      <td>7</td>\n",
       "      <td>0</td>\n",
       "      <td>0</td>\n",
       "      <td>40</td>\n",
       "      <td>0</td>\n",
       "      <td>0</td>\n",
       "      <td>0</td>\n",
       "      <td>0</td>\n",
       "      <td>...</td>\n",
       "      <td>0</td>\n",
       "      <td>0</td>\n",
       "      <td>0</td>\n",
       "      <td>0</td>\n",
       "      <td>0</td>\n",
       "      <td>1</td>\n",
       "      <td>0</td>\n",
       "      <td>0</td>\n",
       "      <td>0</td>\n",
       "      <td>1</td>\n",
       "    </tr>\n",
       "    <tr>\n",
       "      <th>4</th>\n",
       "      <td>28</td>\n",
       "      <td>338409</td>\n",
       "      <td>13</td>\n",
       "      <td>0</td>\n",
       "      <td>0</td>\n",
       "      <td>40</td>\n",
       "      <td>0</td>\n",
       "      <td>0</td>\n",
       "      <td>0</td>\n",
       "      <td>0</td>\n",
       "      <td>...</td>\n",
       "      <td>0</td>\n",
       "      <td>0</td>\n",
       "      <td>1</td>\n",
       "      <td>0</td>\n",
       "      <td>0</td>\n",
       "      <td>1</td>\n",
       "      <td>0</td>\n",
       "      <td>0</td>\n",
       "      <td>1</td>\n",
       "      <td>0</td>\n",
       "    </tr>\n",
       "  </tbody>\n",
       "</table>\n",
       "<p>5 rows × 90 columns</p>\n",
       "</div>"
      ],
      "text/plain": [
       "   age  work-fnl  education-num  capital-gain  capital-loss  hours-per-week  \\\n",
       "0   39     77516             13          2174             0              40   \n",
       "1   50     83311             13             0             0              13   \n",
       "2   38    215646              9             0             0              40   \n",
       "3   53    234721              7             0             0              40   \n",
       "4   28    338409             13             0             0              40   \n",
       "\n",
       "   salary  position_Adm-clerical  position_Armed-Forces  \\\n",
       "0       0                      1                      0   \n",
       "1       0                      0                      0   \n",
       "2       0                      0                      0   \n",
       "3       0                      0                      0   \n",
       "4       0                      0                      0   \n",
       "\n",
       "   position_Craft-repair  ...  relationship_Own-child  relationship_Unmarried  \\\n",
       "0                      0  ...                       0                       0   \n",
       "1                      0  ...                       0                       0   \n",
       "2                      0  ...                       0                       0   \n",
       "3                      0  ...                       0                       0   \n",
       "4                      0  ...                       0                       0   \n",
       "\n",
       "   relationship_Wife  race_Amer-Indian-Eskimo  race_Asian-Pac-Islander  \\\n",
       "0                  0                        0                        0   \n",
       "1                  0                        0                        0   \n",
       "2                  0                        0                        0   \n",
       "3                  0                        0                        0   \n",
       "4                  1                        0                        0   \n",
       "\n",
       "   race_Black  race_Other  race_White  sex_Female  sex_Male  \n",
       "0           0           0           1           0         1  \n",
       "1           0           0           1           0         1  \n",
       "2           0           0           1           0         1  \n",
       "3           1           0           0           0         1  \n",
       "4           1           0           0           1         0  \n",
       "\n",
       "[5 rows x 90 columns]"
      ]
     },
     "execution_count": 649,
     "metadata": {},
     "output_type": "execute_result"
    }
   ],
   "source": [
    "le = preprocessing.LabelEncoder()\n",
    "\n",
    "# data['salary'] = le.fit_transform(data.salary.values)\n",
    "# data['position'] = le.fit_transform(data.position.values)\n",
    "# data['native-country'] = le.fit_transform(data['native-country'].values)\n",
    "# data['work-class'] = le.fit_transform(data['work-class'].values)\n",
    "# data['marital-status'] = le.fit_transform(data['marital-status'].values)\n",
    "# data['relationship'] = le.fit_transform(data['relationship'].values)\n",
    "# data['race'] = le.fit_transform(data['race'].values)\n",
    "# data['sex'] = le.fit_transform(data['sex'].values)\n",
    "\n",
    "data.replace(['<=50K', '>50K'],\n",
    "             [0, 1], inplace=True)\n",
    "data.head()"
   ]
  },
  {
   "cell_type": "code",
   "execution_count": 650,
   "metadata": {},
   "outputs": [
    {
     "data": {
      "text/html": [
       "<div>\n",
       "<style scoped>\n",
       "    .dataframe tbody tr th:only-of-type {\n",
       "        vertical-align: middle;\n",
       "    }\n",
       "\n",
       "    .dataframe tbody tr th {\n",
       "        vertical-align: top;\n",
       "    }\n",
       "\n",
       "    .dataframe thead th {\n",
       "        text-align: right;\n",
       "    }\n",
       "</style>\n",
       "<table border=\"1\" class=\"dataframe\">\n",
       "  <thead>\n",
       "    <tr style=\"text-align: right;\">\n",
       "      <th></th>\n",
       "      <th>age</th>\n",
       "      <th>work-fnl</th>\n",
       "      <th>education-num</th>\n",
       "      <th>capital-gain</th>\n",
       "      <th>capital-loss</th>\n",
       "      <th>hours-per-week</th>\n",
       "      <th>salary</th>\n",
       "      <th>position_Adm-clerical</th>\n",
       "      <th>position_Armed-Forces</th>\n",
       "      <th>position_Craft-repair</th>\n",
       "      <th>...</th>\n",
       "      <th>relationship_Own-child</th>\n",
       "      <th>relationship_Unmarried</th>\n",
       "      <th>relationship_Wife</th>\n",
       "      <th>race_Amer-Indian-Eskimo</th>\n",
       "      <th>race_Asian-Pac-Islander</th>\n",
       "      <th>race_Black</th>\n",
       "      <th>race_Other</th>\n",
       "      <th>race_White</th>\n",
       "      <th>sex_Female</th>\n",
       "      <th>sex_Male</th>\n",
       "    </tr>\n",
       "  </thead>\n",
       "  <tbody>\n",
       "    <tr>\n",
       "      <th>0</th>\n",
       "      <td>39</td>\n",
       "      <td>77516</td>\n",
       "      <td>13</td>\n",
       "      <td>2174</td>\n",
       "      <td>0</td>\n",
       "      <td>40</td>\n",
       "      <td>0</td>\n",
       "      <td>1</td>\n",
       "      <td>0</td>\n",
       "      <td>0</td>\n",
       "      <td>...</td>\n",
       "      <td>0</td>\n",
       "      <td>0</td>\n",
       "      <td>0</td>\n",
       "      <td>0</td>\n",
       "      <td>0</td>\n",
       "      <td>0</td>\n",
       "      <td>0</td>\n",
       "      <td>1</td>\n",
       "      <td>0</td>\n",
       "      <td>1</td>\n",
       "    </tr>\n",
       "    <tr>\n",
       "      <th>1</th>\n",
       "      <td>50</td>\n",
       "      <td>83311</td>\n",
       "      <td>13</td>\n",
       "      <td>0</td>\n",
       "      <td>0</td>\n",
       "      <td>13</td>\n",
       "      <td>0</td>\n",
       "      <td>0</td>\n",
       "      <td>0</td>\n",
       "      <td>0</td>\n",
       "      <td>...</td>\n",
       "      <td>0</td>\n",
       "      <td>0</td>\n",
       "      <td>0</td>\n",
       "      <td>0</td>\n",
       "      <td>0</td>\n",
       "      <td>0</td>\n",
       "      <td>0</td>\n",
       "      <td>1</td>\n",
       "      <td>0</td>\n",
       "      <td>1</td>\n",
       "    </tr>\n",
       "    <tr>\n",
       "      <th>2</th>\n",
       "      <td>38</td>\n",
       "      <td>215646</td>\n",
       "      <td>9</td>\n",
       "      <td>0</td>\n",
       "      <td>0</td>\n",
       "      <td>40</td>\n",
       "      <td>0</td>\n",
       "      <td>0</td>\n",
       "      <td>0</td>\n",
       "      <td>0</td>\n",
       "      <td>...</td>\n",
       "      <td>0</td>\n",
       "      <td>0</td>\n",
       "      <td>0</td>\n",
       "      <td>0</td>\n",
       "      <td>0</td>\n",
       "      <td>0</td>\n",
       "      <td>0</td>\n",
       "      <td>1</td>\n",
       "      <td>0</td>\n",
       "      <td>1</td>\n",
       "    </tr>\n",
       "    <tr>\n",
       "      <th>3</th>\n",
       "      <td>53</td>\n",
       "      <td>234721</td>\n",
       "      <td>7</td>\n",
       "      <td>0</td>\n",
       "      <td>0</td>\n",
       "      <td>40</td>\n",
       "      <td>0</td>\n",
       "      <td>0</td>\n",
       "      <td>0</td>\n",
       "      <td>0</td>\n",
       "      <td>...</td>\n",
       "      <td>0</td>\n",
       "      <td>0</td>\n",
       "      <td>0</td>\n",
       "      <td>0</td>\n",
       "      <td>0</td>\n",
       "      <td>1</td>\n",
       "      <td>0</td>\n",
       "      <td>0</td>\n",
       "      <td>0</td>\n",
       "      <td>1</td>\n",
       "    </tr>\n",
       "    <tr>\n",
       "      <th>4</th>\n",
       "      <td>28</td>\n",
       "      <td>338409</td>\n",
       "      <td>13</td>\n",
       "      <td>0</td>\n",
       "      <td>0</td>\n",
       "      <td>40</td>\n",
       "      <td>0</td>\n",
       "      <td>0</td>\n",
       "      <td>0</td>\n",
       "      <td>0</td>\n",
       "      <td>...</td>\n",
       "      <td>0</td>\n",
       "      <td>0</td>\n",
       "      <td>1</td>\n",
       "      <td>0</td>\n",
       "      <td>0</td>\n",
       "      <td>1</td>\n",
       "      <td>0</td>\n",
       "      <td>0</td>\n",
       "      <td>1</td>\n",
       "      <td>0</td>\n",
       "    </tr>\n",
       "  </tbody>\n",
       "</table>\n",
       "<p>5 rows × 90 columns</p>\n",
       "</div>"
      ],
      "text/plain": [
       "   age  work-fnl  education-num  capital-gain  capital-loss  hours-per-week  \\\n",
       "0   39     77516             13          2174             0              40   \n",
       "1   50     83311             13             0             0              13   \n",
       "2   38    215646              9             0             0              40   \n",
       "3   53    234721              7             0             0              40   \n",
       "4   28    338409             13             0             0              40   \n",
       "\n",
       "   salary  position_Adm-clerical  position_Armed-Forces  \\\n",
       "0       0                      1                      0   \n",
       "1       0                      0                      0   \n",
       "2       0                      0                      0   \n",
       "3       0                      0                      0   \n",
       "4       0                      0                      0   \n",
       "\n",
       "   position_Craft-repair  ...  relationship_Own-child  relationship_Unmarried  \\\n",
       "0                      0  ...                       0                       0   \n",
       "1                      0  ...                       0                       0   \n",
       "2                      0  ...                       0                       0   \n",
       "3                      0  ...                       0                       0   \n",
       "4                      0  ...                       0                       0   \n",
       "\n",
       "   relationship_Wife  race_Amer-Indian-Eskimo  race_Asian-Pac-Islander  \\\n",
       "0                  0                        0                        0   \n",
       "1                  0                        0                        0   \n",
       "2                  0                        0                        0   \n",
       "3                  0                        0                        0   \n",
       "4                  1                        0                        0   \n",
       "\n",
       "   race_Black  race_Other  race_White  sex_Female  sex_Male  \n",
       "0           0           0           1           0         1  \n",
       "1           0           0           1           0         1  \n",
       "2           0           0           1           0         1  \n",
       "3           1           0           0           0         1  \n",
       "4           1           0           0           1         0  \n",
       "\n",
       "[5 rows x 90 columns]"
      ]
     },
     "execution_count": 650,
     "metadata": {},
     "output_type": "execute_result"
    }
   ],
   "source": [
    "data.head()"
   ]
  },
  {
   "cell_type": "markdown",
   "metadata": {},
   "source": [
    "#### Handling Outliers\n",
    "\n",
    "Remove outliers that have z score higher than 3 or lower than -3 "
   ]
  },
  {
   "cell_type": "code",
   "execution_count": 651,
   "metadata": {},
   "outputs": [
    {
     "data": {
      "text/plain": [
       "(21108, 90)"
      ]
     },
     "execution_count": 651,
     "metadata": {},
     "output_type": "execute_result"
    }
   ],
   "source": [
    "data.shape"
   ]
  },
  {
   "cell_type": "code",
   "execution_count": 652,
   "metadata": {},
   "outputs": [],
   "source": [
    "# data = data[(np.abs(stats.zscore(data)) < 3).all(axis=1)]"
   ]
  },
  {
   "cell_type": "code",
   "execution_count": 653,
   "metadata": {},
   "outputs": [
    {
     "data": {
      "text/plain": [
       "(21108, 90)"
      ]
     },
     "execution_count": 653,
     "metadata": {},
     "output_type": "execute_result"
    }
   ],
   "source": [
    "data.shape"
   ]
  },
  {
   "cell_type": "markdown",
   "metadata": {},
   "source": [
    "### Split the data into training and test sets\n",
    "\n",
    "Now, split the dataset into a training set and a test set. We will use the test set in the final evaluation of the model."
   ]
  },
  {
   "cell_type": "code",
   "execution_count": 654,
   "metadata": {},
   "outputs": [],
   "source": [
    "train_dataset = data.sample(frac=0.8, random_state=0)\n",
    "test_dataset = data.drop(train_dataset.index)\n"
   ]
  },
  {
   "cell_type": "code",
   "execution_count": 655,
   "metadata": {},
   "outputs": [
    {
     "data": {
      "text/plain": [
       "(16886, 90)"
      ]
     },
     "execution_count": 655,
     "metadata": {},
     "output_type": "execute_result"
    }
   ],
   "source": [
    "train_dataset.shape"
   ]
  },
  {
   "cell_type": "markdown",
   "metadata": {},
   "source": [
    "### Split features from labels\n",
    "\n",
    "Separate target value —the salary, also called the label— from the features. This label is the value that we will train the model to classify."
   ]
  },
  {
   "cell_type": "code",
   "execution_count": 656,
   "metadata": {},
   "outputs": [],
   "source": [
    "train_features = train_dataset.copy()\n",
    "test_features = test_dataset.copy()\n",
    "\n",
    "train_labels = train_features.pop('salary')\n",
    "test_labels = test_features.pop('salary')\n"
   ]
  },
  {
   "cell_type": "code",
   "execution_count": 657,
   "metadata": {},
   "outputs": [
    {
     "data": {
      "text/plain": [
       "(16886, 89)"
      ]
     },
     "execution_count": 657,
     "metadata": {},
     "output_type": "execute_result"
    }
   ],
   "source": [
    "train_features.shape"
   ]
  },
  {
   "cell_type": "markdown",
   "metadata": {},
   "source": [
    "## Normalization\n",
    "\n",
    "In the table of statistics it's easy to see how different the ranges of each feature are:"
   ]
  },
  {
   "cell_type": "code",
   "execution_count": 658,
   "metadata": {},
   "outputs": [
    {
     "data": {
      "text/html": [
       "<div>\n",
       "<style scoped>\n",
       "    .dataframe tbody tr th:only-of-type {\n",
       "        vertical-align: middle;\n",
       "    }\n",
       "\n",
       "    .dataframe tbody tr th {\n",
       "        vertical-align: top;\n",
       "    }\n",
       "\n",
       "    .dataframe thead th {\n",
       "        text-align: right;\n",
       "    }\n",
       "</style>\n",
       "<table border=\"1\" class=\"dataframe\">\n",
       "  <thead>\n",
       "    <tr style=\"text-align: right;\">\n",
       "      <th></th>\n",
       "      <th>mean</th>\n",
       "      <th>std</th>\n",
       "    </tr>\n",
       "  </thead>\n",
       "  <tbody>\n",
       "    <tr>\n",
       "      <th>capital-gain</th>\n",
       "      <td>1033.677070</td>\n",
       "      <td>7221.840154</td>\n",
       "    </tr>\n",
       "    <tr>\n",
       "      <th>capital-loss</th>\n",
       "      <td>86.143077</td>\n",
       "      <td>399.286854</td>\n",
       "    </tr>\n",
       "    <tr>\n",
       "      <th>work-fnl</th>\n",
       "      <td>189538.746772</td>\n",
       "      <td>104868.588814</td>\n",
       "    </tr>\n",
       "    <tr>\n",
       "      <th>age</th>\n",
       "      <td>38.500059</td>\n",
       "      <td>13.143087</td>\n",
       "    </tr>\n",
       "  </tbody>\n",
       "</table>\n",
       "</div>"
      ],
      "text/plain": [
       "                       mean            std\n",
       "capital-gain    1033.677070    7221.840154\n",
       "capital-loss      86.143077     399.286854\n",
       "work-fnl      189538.746772  104868.588814\n",
       "age               38.500059      13.143087"
      ]
     },
     "execution_count": 658,
     "metadata": {},
     "output_type": "execute_result"
    }
   ],
   "source": [
    "train_dataset[['capital-gain', 'capital-loss', 'work-fnl', 'age']].describe().transpose()[['mean', 'std']]"
   ]
  },
  {
   "cell_type": "markdown",
   "metadata": {},
   "source": [
    "It is good practice to normalize features that have different ranges.\n",
    "\n",
    "If we skip normalizing the features, the model will still converge (ie: reach the optimum loss), However, normalization makes training much more stable."
   ]
  },
  {
   "cell_type": "markdown",
   "metadata": {},
   "source": [
    "### The Normalization layer\n",
    "\n",
    "The tf.keras.layers.Normalization is a clean and simple way to add feature normalization into the model.\n",
    "\n",
    "The first step is to create the layer:"
   ]
  },
  {
   "cell_type": "code",
   "execution_count": 659,
   "metadata": {},
   "outputs": [],
   "source": [
    "normalizer = tf.keras.layers.Normalization(axis=-1)\n"
   ]
  },
  {
   "cell_type": "markdown",
   "metadata": {},
   "source": [
    "Then, fit the state of the preprocessing layer to the data by calling Normalization.adapt:\n"
   ]
  },
  {
   "cell_type": "code",
   "execution_count": 660,
   "metadata": {},
   "outputs": [],
   "source": [
    "normalizer.adapt(np.array(train_features))"
   ]
  },
  {
   "cell_type": "markdown",
   "metadata": {},
   "source": [
    "When the layer is called, it returns the input data, with each feature independently normalized:"
   ]
  },
  {
   "cell_type": "code",
   "execution_count": 661,
   "metadata": {},
   "outputs": [
    {
     "name": "stdout",
     "output_type": "stream",
     "text": [
      "First example: [[    27 108431     10      0      0     40      0      0      1      0\n",
      "       0      0      0      0      0      0      0      0      0      0\n",
      "       0      0      0      0      0      0      0      0      0      0\n",
      "       0      0      0      0      0      0      0      0      0      0\n",
      "       0      0      0      0      0      0      0      0      0      0\n",
      "       0      0      0      0      0      0      0      0      1      0\n",
      "       0      0      0      0      1      0      0      0      0      0\n",
      "       0      0      0      1      0      0      0      1      0      0\n",
      "       0      0      0      0      1      0      0      0      1]]\n",
      "\n",
      "Normalized: [[-0.88 -0.77 -0.05 -0.14 -0.22 -0.08 -0.38 -0.02  2.56 -0.38 -0.18 -0.21\n",
      "  -0.26 -0.34 -0.07 -0.39 -0.15 -0.37 -0.18 -0.23 -0.02 -0.06 -0.04 -0.04\n",
      "  -0.06 -0.05 -0.03 -0.06 -0.06 -0.03 -0.07 -0.03 -0.05 -0.04 -0.01 -0.02\n",
      "  -0.02 -0.02 -0.06 -0.04 -0.03 -0.05 -0.05 -0.04 -0.02 -0.14 -0.03 -0.02\n",
      "  -0.03 -0.08 -0.05 -0.04 -0.06 -0.02 -0.05 -0.04 -0.02 -0.02  0.31 -0.05\n",
      "  -0.02 -0.18  0.   -0.27  0.6  -0.19 -0.3  -0.21 -0.02 -0.41 -0.03 -0.93\n",
      "  -0.11  1.44 -0.18 -0.17 -0.84  1.69 -0.17 -0.42 -0.34 -0.22 -0.1  -0.18\n",
      "   3.1  -0.09 -2.45 -0.69  0.69]]\n"
     ]
    }
   ],
   "source": [
    "first = np.array(train_features[:1])\n",
    "\n",
    "with np.printoptions(precision=2, suppress=True):\n",
    "    print('First example:', first)\n",
    "    print()\n",
    "    print('Normalized:', normalizer(first).numpy())\n"
   ]
  },
  {
   "cell_type": "markdown",
   "metadata": {},
   "source": [
    "## Classification\n",
    "\n",
    "### Building the Neural Network Model\n",
    "\n",
    "We first declare the layers of the neural network and their activation functions.\n"
   ]
  },
  {
   "cell_type": "code",
   "execution_count": 662,
   "metadata": {},
   "outputs": [],
   "source": [
    "model = tf.keras.Sequential([\n",
    "    normalizer,\n",
    "    tf.keras.layers.Dense(64, activation='relu'),\n",
    "    tf.keras.layers.Dense(128, activation='relu'),\n",
    "    tf.keras.layers.Dense(256, activation='relu'),\n",
    "    tf.keras.layers.Dense(128, activation='relu'),\n",
    "    tf.keras.layers.Dense(64, activation='relu'),\n",
    "    tf.keras.layers.Dense(2)\n",
    "])\n"
   ]
  },
  {
   "cell_type": "markdown",
   "metadata": {},
   "source": [
    "We then config the model with losses and metrics that we want using `model.compile()`"
   ]
  },
  {
   "cell_type": "code",
   "execution_count": 663,
   "metadata": {},
   "outputs": [],
   "source": [
    "model.compile(optimizer=tf.keras.optimizers.Adam(learning_rate=0.00001),\n",
    "              loss=tf.keras.losses.SparseCategoricalCrossentropy(from_logits=True),\n",
    "              metrics=['accuracy'])\n"
   ]
  },
  {
   "cell_type": "markdown",
   "metadata": {},
   "source": [
    "We then trains the model on the training data for a fixed number of epochs (iterations)."
   ]
  },
  {
   "cell_type": "code",
   "execution_count": 664,
   "metadata": {},
   "outputs": [
    {
     "name": "stdout",
     "output_type": "stream",
     "text": [
      "Epoch 1/50\n",
      "528/528 [==============================] - 2s 4ms/step - loss: 0.5681 - accuracy: 0.7553 - val_loss: 0.5517 - val_accuracy: 0.7456\n",
      "Epoch 2/50\n",
      "528/528 [==============================] - 2s 3ms/step - loss: 0.5076 - accuracy: 0.7580 - val_loss: 0.4940 - val_accuracy: 0.7698\n",
      "Epoch 3/50\n",
      "528/528 [==============================] - 2s 3ms/step - loss: 0.4541 - accuracy: 0.7901 - val_loss: 0.4486 - val_accuracy: 0.7958\n",
      "Epoch 4/50\n",
      "528/528 [==============================] - 2s 3ms/step - loss: 0.4195 - accuracy: 0.8116 - val_loss: 0.4238 - val_accuracy: 0.8119\n",
      "Epoch 5/50\n",
      "528/528 [==============================] - 2s 3ms/step - loss: 0.3993 - accuracy: 0.8212 - val_loss: 0.4098 - val_accuracy: 0.8155\n",
      "Epoch 6/50\n",
      "528/528 [==============================] - 2s 4ms/step - loss: 0.3860 - accuracy: 0.8258 - val_loss: 0.3997 - val_accuracy: 0.8164\n",
      "Epoch 7/50\n",
      "528/528 [==============================] - 2s 4ms/step - loss: 0.3762 - accuracy: 0.8283 - val_loss: 0.3924 - val_accuracy: 0.8209\n",
      "Epoch 8/50\n",
      "528/528 [==============================] - 2s 4ms/step - loss: 0.3688 - accuracy: 0.8314 - val_loss: 0.3861 - val_accuracy: 0.8212\n",
      "Epoch 9/50\n",
      "528/528 [==============================] - 2s 4ms/step - loss: 0.3631 - accuracy: 0.8323 - val_loss: 0.3816 - val_accuracy: 0.8231\n",
      "Epoch 10/50\n",
      "528/528 [==============================] - 2s 4ms/step - loss: 0.3584 - accuracy: 0.8352 - val_loss: 0.3777 - val_accuracy: 0.8261\n",
      "Epoch 11/50\n",
      "528/528 [==============================] - 2s 4ms/step - loss: 0.3542 - accuracy: 0.8363 - val_loss: 0.3746 - val_accuracy: 0.8264\n",
      "Epoch 12/50\n",
      "528/528 [==============================] - 2s 4ms/step - loss: 0.3510 - accuracy: 0.8371 - val_loss: 0.3710 - val_accuracy: 0.8278\n",
      "Epoch 13/50\n",
      "528/528 [==============================] - 2s 4ms/step - loss: 0.3477 - accuracy: 0.8391 - val_loss: 0.3684 - val_accuracy: 0.8290\n",
      "Epoch 14/50\n",
      "528/528 [==============================] - 2s 4ms/step - loss: 0.3455 - accuracy: 0.8405 - val_loss: 0.3663 - val_accuracy: 0.8295\n",
      "Epoch 15/50\n",
      "528/528 [==============================] - 2s 4ms/step - loss: 0.3429 - accuracy: 0.8407 - val_loss: 0.3641 - val_accuracy: 0.8278\n",
      "Epoch 16/50\n",
      "528/528 [==============================] - 2s 3ms/step - loss: 0.3409 - accuracy: 0.8418 - val_loss: 0.3628 - val_accuracy: 0.8292\n",
      "Epoch 17/50\n",
      "528/528 [==============================] - 2s 3ms/step - loss: 0.3390 - accuracy: 0.8423 - val_loss: 0.3619 - val_accuracy: 0.8285\n",
      "Epoch 18/50\n",
      "528/528 [==============================] - 2s 3ms/step - loss: 0.3372 - accuracy: 0.8430 - val_loss: 0.3609 - val_accuracy: 0.8288\n",
      "Epoch 19/50\n",
      "528/528 [==============================] - 2s 3ms/step - loss: 0.3356 - accuracy: 0.8441 - val_loss: 0.3603 - val_accuracy: 0.8290\n",
      "Epoch 20/50\n",
      "528/528 [==============================] - 2s 3ms/step - loss: 0.3341 - accuracy: 0.8450 - val_loss: 0.3579 - val_accuracy: 0.8321\n",
      "Epoch 21/50\n",
      "528/528 [==============================] - 2s 3ms/step - loss: 0.3326 - accuracy: 0.8453 - val_loss: 0.3574 - val_accuracy: 0.8347\n",
      "Epoch 22/50\n",
      "528/528 [==============================] - 2s 3ms/step - loss: 0.3310 - accuracy: 0.8473 - val_loss: 0.3578 - val_accuracy: 0.8321\n",
      "Epoch 23/50\n",
      "528/528 [==============================] - 2s 3ms/step - loss: 0.3297 - accuracy: 0.8473 - val_loss: 0.3565 - val_accuracy: 0.8344\n",
      "Epoch 24/50\n",
      "528/528 [==============================] - 2s 3ms/step - loss: 0.3284 - accuracy: 0.8476 - val_loss: 0.3562 - val_accuracy: 0.8340\n",
      "Epoch 25/50\n",
      "528/528 [==============================] - 2s 3ms/step - loss: 0.3270 - accuracy: 0.8487 - val_loss: 0.3569 - val_accuracy: 0.8340\n",
      "Epoch 26/50\n",
      "528/528 [==============================] - 2s 3ms/step - loss: 0.3259 - accuracy: 0.8494 - val_loss: 0.3542 - val_accuracy: 0.8356\n",
      "Epoch 27/50\n",
      "528/528 [==============================] - 2s 3ms/step - loss: 0.3247 - accuracy: 0.8492 - val_loss: 0.3535 - val_accuracy: 0.8363\n",
      "Epoch 28/50\n",
      "528/528 [==============================] - 2s 3ms/step - loss: 0.3235 - accuracy: 0.8515 - val_loss: 0.3534 - val_accuracy: 0.8354\n",
      "Epoch 29/50\n",
      "528/528 [==============================] - 2s 3ms/step - loss: 0.3225 - accuracy: 0.8505 - val_loss: 0.3523 - val_accuracy: 0.8378\n",
      "Epoch 30/50\n",
      "528/528 [==============================] - 2s 3ms/step - loss: 0.3214 - accuracy: 0.8514 - val_loss: 0.3522 - val_accuracy: 0.8366\n",
      "Epoch 31/50\n",
      "528/528 [==============================] - 2s 3ms/step - loss: 0.3205 - accuracy: 0.8521 - val_loss: 0.3522 - val_accuracy: 0.8361\n",
      "Epoch 32/50\n",
      "528/528 [==============================] - 2s 3ms/step - loss: 0.3192 - accuracy: 0.8524 - val_loss: 0.3531 - val_accuracy: 0.8347\n",
      "Epoch 33/50\n",
      "528/528 [==============================] - 2s 3ms/step - loss: 0.3184 - accuracy: 0.8533 - val_loss: 0.3511 - val_accuracy: 0.8368\n",
      "Epoch 34/50\n",
      "528/528 [==============================] - 2s 3ms/step - loss: 0.3175 - accuracy: 0.8544 - val_loss: 0.3508 - val_accuracy: 0.8375\n",
      "Epoch 35/50\n",
      "528/528 [==============================] - 2s 3ms/step - loss: 0.3166 - accuracy: 0.8538 - val_loss: 0.3505 - val_accuracy: 0.8363\n",
      "Epoch 36/50\n",
      "528/528 [==============================] - 2s 3ms/step - loss: 0.3155 - accuracy: 0.8551 - val_loss: 0.3509 - val_accuracy: 0.8368\n",
      "Epoch 37/50\n",
      "528/528 [==============================] - 2s 3ms/step - loss: 0.3148 - accuracy: 0.8547 - val_loss: 0.3498 - val_accuracy: 0.8359\n",
      "Epoch 38/50\n",
      "528/528 [==============================] - 2s 3ms/step - loss: 0.3137 - accuracy: 0.8550 - val_loss: 0.3490 - val_accuracy: 0.8392\n",
      "Epoch 39/50\n",
      "528/528 [==============================] - 2s 3ms/step - loss: 0.3130 - accuracy: 0.8551 - val_loss: 0.3494 - val_accuracy: 0.8373\n",
      "Epoch 40/50\n",
      "528/528 [==============================] - 2s 3ms/step - loss: 0.3119 - accuracy: 0.8562 - val_loss: 0.3499 - val_accuracy: 0.8373\n",
      "Epoch 41/50\n",
      "528/528 [==============================] - 2s 3ms/step - loss: 0.3112 - accuracy: 0.8562 - val_loss: 0.3494 - val_accuracy: 0.8375\n",
      "Epoch 42/50\n",
      "528/528 [==============================] - 2s 3ms/step - loss: 0.3105 - accuracy: 0.8570 - val_loss: 0.3483 - val_accuracy: 0.8380\n",
      "Epoch 43/50\n",
      "528/528 [==============================] - 2s 3ms/step - loss: 0.3096 - accuracy: 0.8576 - val_loss: 0.3479 - val_accuracy: 0.8380\n",
      "Epoch 44/50\n",
      "528/528 [==============================] - 2s 3ms/step - loss: 0.3088 - accuracy: 0.8579 - val_loss: 0.3475 - val_accuracy: 0.8387\n",
      "Epoch 45/50\n",
      "528/528 [==============================] - 2s 3ms/step - loss: 0.3079 - accuracy: 0.8578 - val_loss: 0.3489 - val_accuracy: 0.8375\n",
      "Epoch 46/50\n",
      "528/528 [==============================] - 2s 3ms/step - loss: 0.3073 - accuracy: 0.8588 - val_loss: 0.3474 - val_accuracy: 0.8401\n",
      "Epoch 47/50\n",
      "528/528 [==============================] - 2s 3ms/step - loss: 0.3064 - accuracy: 0.8592 - val_loss: 0.3492 - val_accuracy: 0.8375\n",
      "Epoch 48/50\n",
      "528/528 [==============================] - 2s 3ms/step - loss: 0.3058 - accuracy: 0.8588 - val_loss: 0.3488 - val_accuracy: 0.8382\n",
      "Epoch 49/50\n",
      "528/528 [==============================] - 2s 3ms/step - loss: 0.3050 - accuracy: 0.8592 - val_loss: 0.3484 - val_accuracy: 0.8375\n",
      "Epoch 50/50\n",
      "528/528 [==============================] - 2s 3ms/step - loss: 0.3042 - accuracy: 0.8596 - val_loss: 0.3474 - val_accuracy: 0.8396\n"
     ]
    }
   ],
   "source": [
    "r = model.fit(train_features, train_labels, validation_data=(test_features, test_labels), epochs=50)\n"
   ]
  },
  {
   "cell_type": "code",
   "execution_count": 665,
   "metadata": {},
   "outputs": [
    {
     "name": "stdout",
     "output_type": "stream",
     "text": [
      "Index(['age', 'work-fnl', 'education-num', 'capital-gain', 'capital-loss',\n",
      "       'hours-per-week', 'position_Adm-clerical', 'position_Armed-Forces',\n",
      "       'position_Craft-repair', 'position_Exec-managerial',\n",
      "       'position_Farming-fishing', 'position_Handlers-cleaners',\n",
      "       'position_Machine-op-inspct', 'position_Other-service',\n",
      "       'position_Priv-house-serv', 'position_Prof-specialty',\n",
      "       'position_Protective-serv', 'position_Sales', 'position_Tech-support',\n",
      "       'position_Transport-moving', 'country_Cambodia', 'country_Canada',\n",
      "       'country_China', 'country_Columbia', 'country_Cuba',\n",
      "       'country_Dominican-Republic', 'country_Ecuador', 'country_El-Salvador',\n",
      "       'country_England', 'country_France', 'country_Germany',\n",
      "       'country_Greece', 'country_Guatemala', 'country_Haiti',\n",
      "       'country_Holand-Netherlands', 'country_Honduras', 'country_Hong',\n",
      "       'country_Hungary', 'country_India', 'country_Iran', 'country_Ireland',\n",
      "       'country_Italy', 'country_Jamaica', 'country_Japan', 'country_Laos',\n",
      "       'country_Mexico', 'country_Nicaragua',\n",
      "       'country_Outlying-US(Guam-USVI-etc)', 'country_Peru',\n",
      "       'country_Philippines', 'country_Poland', 'country_Portugal',\n",
      "       'country_Puerto-Rico', 'country_Scotland', 'country_South',\n",
      "       'country_Taiwan', 'country_Thailand', 'country_Trinadad&Tobago',\n",
      "       'country_United-States', 'country_Vietnam', 'country_Yugoslavia',\n",
      "       'work_Federal-gov', 'work_Local-gov', 'work_Never-worked',\n",
      "       'work_Private', 'work_Self-emp-inc', 'work_Self-emp-not-inc',\n",
      "       'work_State-gov', 'work_Without-pay', 'marital_Divorced',\n",
      "       'marital_Married-AF-spouse', 'marital_Married-civ-spouse',\n",
      "       'marital_Married-spouse-absent', 'marital_Never-married',\n",
      "       'marital_Separated', 'marital_Widowed', 'relationship_Husband',\n",
      "       'relationship_Not-in-family', 'relationship_Other-relative',\n",
      "       'relationship_Own-child', 'relationship_Unmarried', 'relationship_Wife',\n",
      "       'race_Amer-Indian-Eskimo', 'race_Asian-Pac-Islander', 'race_Black',\n",
      "       'race_Other', 'race_White', 'sex_Female', 'sex_Male'],\n",
      "      dtype='object')\n"
     ]
    }
   ],
   "source": [
    "test = pd.read_csv('test.csv')\n",
    "test = test.drop('education', axis=1)\n",
    "test = test.applymap(lambda x: x.strip() if isinstance(x, str) else x)\n",
    "test = test.replace('?', np.nan)\n",
    "\n",
    "test = pd.get_dummies(test, columns=['position'], prefix='position')\n",
    "test = pd.get_dummies(test, columns=['native-country'], prefix='country')\n",
    "test = pd.get_dummies(test, columns=['work-class'], prefix='work')\n",
    "test = pd.get_dummies(test, columns=['marital-status'], prefix='marital')\n",
    "test = pd.get_dummies(test, columns=['relationship'], prefix='relationship')\n",
    "test = pd.get_dummies(test, columns=['race'], prefix='race')\n",
    "test = pd.get_dummies(test, columns=['sex'], prefix='sex')\n",
    "\n",
    "test.insert(34, 'country_Holand-Netherlands', 0)\n",
    "\n",
    "print(test.columns)"
   ]
  },
  {
   "cell_type": "code",
   "execution_count": 677,
   "metadata": {},
   "outputs": [
    {
     "name": "stdout",
     "output_type": "stream",
     "text": [
      "306/306 [==============================] - 0s 2ms/step\n"
     ]
    }
   ],
   "source": [
    "predictions = model.predict(test)"
   ]
  },
  {
   "cell_type": "code",
   "execution_count": 678,
   "metadata": {},
   "outputs": [],
   "source": [
    "predictions = np.argmax(predictions, axis=1)"
   ]
  },
  {
   "cell_type": "code",
   "execution_count": 679,
   "metadata": {},
   "outputs": [],
   "source": [
    "submission = pd.DataFrame({'index': test.index, 'salary': predictions})\n",
    "\n",
    "submission['salary'].replace([0, 1], ['<=50K', '>50K'], inplace=True)\n",
    "\n",
    "submission.to_csv('submission.csv', index=False)\n"
   ]
  },
  {
   "cell_type": "code",
   "execution_count": 680,
   "metadata": {},
   "outputs": [
    {
     "data": {
      "text/html": [
       "<div>\n",
       "<style scoped>\n",
       "    .dataframe tbody tr th:only-of-type {\n",
       "        vertical-align: middle;\n",
       "    }\n",
       "\n",
       "    .dataframe tbody tr th {\n",
       "        vertical-align: top;\n",
       "    }\n",
       "\n",
       "    .dataframe thead th {\n",
       "        text-align: right;\n",
       "    }\n",
       "</style>\n",
       "<table border=\"1\" class=\"dataframe\">\n",
       "  <thead>\n",
       "    <tr style=\"text-align: right;\">\n",
       "      <th></th>\n",
       "      <th>index</th>\n",
       "      <th>salary</th>\n",
       "    </tr>\n",
       "  </thead>\n",
       "  <tbody>\n",
       "    <tr>\n",
       "      <th>0</th>\n",
       "      <td>0</td>\n",
       "      <td>&lt;=50K</td>\n",
       "    </tr>\n",
       "    <tr>\n",
       "      <th>1</th>\n",
       "      <td>1</td>\n",
       "      <td>&lt;=50K</td>\n",
       "    </tr>\n",
       "    <tr>\n",
       "      <th>2</th>\n",
       "      <td>2</td>\n",
       "      <td>&lt;=50K</td>\n",
       "    </tr>\n",
       "    <tr>\n",
       "      <th>3</th>\n",
       "      <td>3</td>\n",
       "      <td>&lt;=50K</td>\n",
       "    </tr>\n",
       "    <tr>\n",
       "      <th>4</th>\n",
       "      <td>4</td>\n",
       "      <td>&lt;=50K</td>\n",
       "    </tr>\n",
       "    <tr>\n",
       "      <th>...</th>\n",
       "      <td>...</td>\n",
       "      <td>...</td>\n",
       "    </tr>\n",
       "    <tr>\n",
       "      <th>9764</th>\n",
       "      <td>9764</td>\n",
       "      <td>&lt;=50K</td>\n",
       "    </tr>\n",
       "    <tr>\n",
       "      <th>9765</th>\n",
       "      <td>9765</td>\n",
       "      <td>&lt;=50K</td>\n",
       "    </tr>\n",
       "    <tr>\n",
       "      <th>9766</th>\n",
       "      <td>9766</td>\n",
       "      <td>&lt;=50K</td>\n",
       "    </tr>\n",
       "    <tr>\n",
       "      <th>9767</th>\n",
       "      <td>9767</td>\n",
       "      <td>&lt;=50K</td>\n",
       "    </tr>\n",
       "    <tr>\n",
       "      <th>9768</th>\n",
       "      <td>9768</td>\n",
       "      <td>&lt;=50K</td>\n",
       "    </tr>\n",
       "  </tbody>\n",
       "</table>\n",
       "<p>9769 rows × 2 columns</p>\n",
       "</div>"
      ],
      "text/plain": [
       "      index salary\n",
       "0         0  <=50K\n",
       "1         1  <=50K\n",
       "2         2  <=50K\n",
       "3         3  <=50K\n",
       "4         4  <=50K\n",
       "...     ...    ...\n",
       "9764   9764  <=50K\n",
       "9765   9765  <=50K\n",
       "9766   9766  <=50K\n",
       "9767   9767  <=50K\n",
       "9768   9768  <=50K\n",
       "\n",
       "[9769 rows x 2 columns]"
      ]
     },
     "execution_count": 680,
     "metadata": {},
     "output_type": "execute_result"
    }
   ],
   "source": [
    "submission"
   ]
  },
  {
   "cell_type": "markdown",
   "metadata": {},
   "source": [
    "## Model Evaluation\n",
    "\n",
    "`model.fit` returns a history object which contains the loss and accuracy of the model at each epoch. So now we can use this object to plot accuracy across time so as to get a better understanding of the model's performance.\n"
   ]
  },
  {
   "cell_type": "code",
   "execution_count": 430,
   "metadata": {},
   "outputs": [
    {
     "data": {
      "image/png": "[encoded data removed]",
      "text/plain": [
       "<Figure size 1080x720 with 1 Axes>"
      ]
     },
     "metadata": {
      "needs_background": "light"
     },
     "output_type": "display_data"
    }
   ],
   "source": [
    "def plot_loss(history):\n",
    "    plt.figure(figsize=(15, 10))\n",
    "    plt.plot(history.history['accuracy'], label='accuracy')\n",
    "    plt.plot(history.history['val_accuracy'], label='val_accuracy')\n",
    "    plt.xlabel('Epoch')\n",
    "    plt.ylabel('Accuracy')\n",
    "    plt.legend()\n",
    "    plt.grid(True)\n",
    "    plt.show()\n",
    "    \n",
    "plot_loss(r)"
   ]
  },
  {
   "cell_type": "markdown",
   "metadata": {},
   "source": [
    "## Make predictions\n",
    "\n",
    "With the model trained, we now use it to make predictions about the type of the tumor. We attach a softmax layer to convert the model's output to probabilities, which are easier to interpret."
   ]
  },
  {
   "cell_type": "code",
   "execution_count": 166,
   "metadata": {},
   "outputs": [],
   "source": [
    "probability_model = tf.keras.Sequential([model,\n",
    "                                         tf.keras.layers.Softmax()])\n"
   ]
  },
  {
   "cell_type": "markdown",
   "metadata": {},
   "source": [
    "We let the model predict the clarity of the test set:"
   ]
  },
  {
   "cell_type": "code",
   "execution_count": 167,
   "metadata": {},
   "outputs": [
    {
     "name": "stdout",
     "output_type": "stream",
     "text": [
      "66/66 [==============================] - 0s 1ms/step\n"
     ]
    }
   ],
   "source": [
    "predictions = probability_model.predict(test_features)\n"
   ]
  },
  {
   "cell_type": "markdown",
   "metadata": {},
   "source": [
    "We take a look at the first prediction:"
   ]
  },
  {
   "cell_type": "code",
   "execution_count": 168,
   "metadata": {},
   "outputs": [
    {
     "data": {
      "text/plain": [
       "array([1., 0.], dtype=float32)"
      ]
     },
     "execution_count": 168,
     "metadata": {},
     "output_type": "execute_result"
    }
   ],
   "source": [
    "predictions[0]\n"
   ]
  },
  {
   "cell_type": "markdown",
   "metadata": {},
   "source": [
    "The prediction is an array of 2 numbers. They represent the model's \"confidence\" that the tumor type corresponds to each of the 2 different types."
   ]
  },
  {
   "cell_type": "code",
   "execution_count": 169,
   "metadata": {},
   "outputs": [
    {
     "data": {
      "text/plain": [
       "0"
      ]
     },
     "execution_count": 169,
     "metadata": {},
     "output_type": "execute_result"
    }
   ],
   "source": [
    "np.argmax(predictions[0])\n"
   ]
  },
  {
   "cell_type": "markdown",
   "metadata": {},
   "source": [
    "## Review Performance\n",
    "\n",
    "To get an overview of the model's performance, we print the confusion matrix of the predicted labels. This shows us how many labels did the model classify correctly and how many did he miss."
   ]
  },
  {
   "cell_type": "code",
   "execution_count": 171,
   "metadata": {},
   "outputs": [
    {
     "name": "stdout",
     "output_type": "stream",
     "text": [
      "Predicted     0    1\n",
      "Actual              \n",
      "0          1468  163\n",
      "1           182  284\n"
     ]
    }
   ],
   "source": [
    "predicted = np.argmax(predictions, axis=1)\n",
    "predicted.shape\n",
    "\n",
    "confusion_matrix = pd.crosstab(test_labels, predicted, rownames=[\n",
    "                               'Actual'], colnames=['Predicted'])\n",
    "print(confusion_matrix)\n"
   ]
  },
  {
   "cell_type": "markdown",
   "metadata": {},
   "source": [
    "Now let's visualise the confusion matrix:"
   ]
  },
  {
   "cell_type": "code",
   "execution_count": 172,
   "metadata": {},
   "outputs": [
    {
     "data": {
      "image/png": "[encoded data removed]",
      "text/plain": [
       "<Figure size 1080x720 with 2 Axes>"
      ]
     },
     "metadata": {
      "needs_background": "light"
     },
     "output_type": "display_data"
    }
   ],
   "source": [
    "confusion_matrix = pd.crosstab(test_labels, predicted, rownames=[\n",
    "                               'Actual'], colnames=['Predicted'])\n",
    "\n",
    "plt.figure(figsize=(15, 10))\n",
    "plt.ticklabel_format(style='plain')\n",
    "sns.heatmap(confusion_matrix, annot=True, cmap='Blues', fmt='g')\n",
    "plt.show()\n"
   ]
  },
  {
   "cell_type": "markdown",
   "metadata": {},
   "source": []
  }
 ],
 "metadata": {
  "kernelspec": {
   "display_name": "Python 3.9.2 64-bit",
   "language": "python",
   "name": "python3"
  },
  "language_info": {
   "codemirror_mode": {
    "name": "ipython",
    "version": 3
   },
   "file_extension": ".py",
   "mimetype": "text/x-python",
   "name": "python",
   "nbconvert_exporter": "python",
   "pygments_lexer": "ipython3",
   "version": "3.9.2"
  },
  "orig_nbformat": 4,
  "vscode": {
   "interpreter": {
    "hash": "8f8cf99212f81ad0c4765861267244807ee1c18364846cdce387b28994a977ba"
   }
  }
 },
 "nbformat": 4,
 "nbformat_minor": 2
}
