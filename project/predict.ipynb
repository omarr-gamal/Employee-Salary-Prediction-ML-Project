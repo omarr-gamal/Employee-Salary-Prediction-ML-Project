{
 "cells": [
  {
   "cell_type": "code",
   "execution_count": 198,
   "metadata": {},
   "outputs": [],
   "source": [
    "import numpy as np\n",
    "import pandas as pd\n",
    "import matplotlib.pyplot as plt\n",
    "import seaborn as sns\n",
    "\n",
    "# Make NumPy printouts easier to read.\n",
    "np.set_printoptions(precision=3, suppress=True)\n",
    "\n",
    "from sklearn import preprocessing\n",
    "\n",
    "import tensorflow as tf\n",
    "\n",
    "from tensorflow.keras.layers import Dense, Normalization\n",
    "from tensorflow.keras.models import Model\n",
    "\n",
    "from scipy import stats\n"
   ]
  },
  {
   "cell_type": "code",
   "execution_count": 199,
   "metadata": {},
   "outputs": [],
   "source": [
    "data = pd.read_csv(\"data.csv\")"
   ]
  },
  {
   "cell_type": "code",
   "execution_count": 200,
   "metadata": {},
   "outputs": [],
   "source": [
    "data = data.drop('education', axis=1)"
   ]
  },
  {
   "cell_type": "code",
   "execution_count": 201,
   "metadata": {},
   "outputs": [
    {
     "data": {
      "text/plain": [
       "(22792, 14)"
      ]
     },
     "execution_count": 201,
     "metadata": {},
     "output_type": "execute_result"
    }
   ],
   "source": [
    "data.shape"
   ]
  },
  {
   "cell_type": "code",
   "execution_count": 202,
   "metadata": {},
   "outputs": [],
   "source": [
    "data = data.applymap(lambda x: x.strip() if isinstance(x, str) else x)"
   ]
  },
  {
   "cell_type": "code",
   "execution_count": 203,
   "metadata": {},
   "outputs": [],
   "source": [
    "# Replace all cells with the value '?' with null\n",
    "data = data.replace({'?': np.nan})"
   ]
  },
  {
   "cell_type": "code",
   "execution_count": 204,
   "metadata": {},
   "outputs": [],
   "source": [
    "for col in data.columns:\n",
    "    data[col] = data[col].fillna(data[col].mode()[0])\n",
    "    \n",
    "# data = data[~(data.T == '?').any()]"
   ]
  },
  {
   "cell_type": "code",
   "execution_count": 205,
   "metadata": {},
   "outputs": [
    {
     "data": {
      "text/plain": [
       "(22792, 14)"
      ]
     },
     "execution_count": 205,
     "metadata": {},
     "output_type": "execute_result"
    }
   ],
   "source": [
    "data.shape"
   ]
  },
  {
   "cell_type": "code",
   "execution_count": 206,
   "metadata": {},
   "outputs": [
    {
     "data": {
      "text/plain": [
       "(22777, 14)"
      ]
     },
     "execution_count": 206,
     "metadata": {},
     "output_type": "execute_result"
    }
   ],
   "source": [
    "data = data.drop_duplicates()\n",
    "data.shape"
   ]
  },
  {
   "cell_type": "code",
   "execution_count": 180,
   "metadata": {},
   "outputs": [],
   "source": [
    "data = pd.get_dummies(data, columns=['position'], prefix='position')\n",
    "data = pd.get_dummies(data, columns=['native-country'], prefix='country')\n",
    "data = pd.get_dummies(data, columns=['work-class'], prefix='workk')\n",
    "data = pd.get_dummies(data, columns=['marital-status'], prefix='marital')\n",
    "data = pd.get_dummies(data, columns=['relationship'], prefix='relationship')\n",
    "data = pd.get_dummies(data, columns=['race'], prefix='race')\n",
    "data = pd.get_dummies(data, columns=['sex'], prefix='sex')\n",
    "\n",
    "# data.insert(63, 'work_Never-worked', 0)"
   ]
  },
  {
   "cell_type": "code",
   "execution_count": 181,
   "metadata": {},
   "outputs": [
    {
     "data": {
      "text/html": [
       "<div>\n",
       "<style scoped>\n",
       "    .dataframe tbody tr th:only-of-type {\n",
       "        vertical-align: middle;\n",
       "    }\n",
       "\n",
       "    .dataframe tbody tr th {\n",
       "        vertical-align: top;\n",
       "    }\n",
       "\n",
       "    .dataframe thead th {\n",
       "        text-align: right;\n",
       "    }\n",
       "</style>\n",
       "<table border=\"1\" class=\"dataframe\">\n",
       "  <thead>\n",
       "    <tr style=\"text-align: right;\">\n",
       "      <th></th>\n",
       "      <th>age</th>\n",
       "      <th>work-class</th>\n",
       "      <th>work-fnl</th>\n",
       "      <th>education-num</th>\n",
       "      <th>capital-gain</th>\n",
       "      <th>capital-loss</th>\n",
       "      <th>hours-per-week</th>\n",
       "      <th>native-country</th>\n",
       "      <th>salary</th>\n",
       "      <th>position_Adm-clerical</th>\n",
       "      <th>...</th>\n",
       "      <th>relationship_Own-child</th>\n",
       "      <th>relationship_Unmarried</th>\n",
       "      <th>relationship_Wife</th>\n",
       "      <th>race_Amer-Indian-Eskimo</th>\n",
       "      <th>race_Asian-Pac-Islander</th>\n",
       "      <th>race_Black</th>\n",
       "      <th>race_Other</th>\n",
       "      <th>race_White</th>\n",
       "      <th>sex_Female</th>\n",
       "      <th>sex_Male</th>\n",
       "    </tr>\n",
       "  </thead>\n",
       "  <tbody>\n",
       "    <tr>\n",
       "      <th>0</th>\n",
       "      <td>39</td>\n",
       "      <td>6</td>\n",
       "      <td>77516</td>\n",
       "      <td>13</td>\n",
       "      <td>2174</td>\n",
       "      <td>0</td>\n",
       "      <td>40</td>\n",
       "      <td>38</td>\n",
       "      <td>0</td>\n",
       "      <td>1</td>\n",
       "      <td>...</td>\n",
       "      <td>0</td>\n",
       "      <td>0</td>\n",
       "      <td>0</td>\n",
       "      <td>0</td>\n",
       "      <td>0</td>\n",
       "      <td>0</td>\n",
       "      <td>0</td>\n",
       "      <td>1</td>\n",
       "      <td>0</td>\n",
       "      <td>1</td>\n",
       "    </tr>\n",
       "    <tr>\n",
       "      <th>1</th>\n",
       "      <td>50</td>\n",
       "      <td>5</td>\n",
       "      <td>83311</td>\n",
       "      <td>13</td>\n",
       "      <td>0</td>\n",
       "      <td>0</td>\n",
       "      <td>13</td>\n",
       "      <td>38</td>\n",
       "      <td>0</td>\n",
       "      <td>0</td>\n",
       "      <td>...</td>\n",
       "      <td>0</td>\n",
       "      <td>0</td>\n",
       "      <td>0</td>\n",
       "      <td>0</td>\n",
       "      <td>0</td>\n",
       "      <td>0</td>\n",
       "      <td>0</td>\n",
       "      <td>1</td>\n",
       "      <td>0</td>\n",
       "      <td>1</td>\n",
       "    </tr>\n",
       "    <tr>\n",
       "      <th>2</th>\n",
       "      <td>38</td>\n",
       "      <td>3</td>\n",
       "      <td>215646</td>\n",
       "      <td>9</td>\n",
       "      <td>0</td>\n",
       "      <td>0</td>\n",
       "      <td>40</td>\n",
       "      <td>38</td>\n",
       "      <td>0</td>\n",
       "      <td>0</td>\n",
       "      <td>...</td>\n",
       "      <td>0</td>\n",
       "      <td>0</td>\n",
       "      <td>0</td>\n",
       "      <td>0</td>\n",
       "      <td>0</td>\n",
       "      <td>0</td>\n",
       "      <td>0</td>\n",
       "      <td>1</td>\n",
       "      <td>0</td>\n",
       "      <td>1</td>\n",
       "    </tr>\n",
       "    <tr>\n",
       "      <th>3</th>\n",
       "      <td>53</td>\n",
       "      <td>3</td>\n",
       "      <td>234721</td>\n",
       "      <td>7</td>\n",
       "      <td>0</td>\n",
       "      <td>0</td>\n",
       "      <td>40</td>\n",
       "      <td>38</td>\n",
       "      <td>0</td>\n",
       "      <td>0</td>\n",
       "      <td>...</td>\n",
       "      <td>0</td>\n",
       "      <td>0</td>\n",
       "      <td>0</td>\n",
       "      <td>0</td>\n",
       "      <td>0</td>\n",
       "      <td>1</td>\n",
       "      <td>0</td>\n",
       "      <td>0</td>\n",
       "      <td>0</td>\n",
       "      <td>1</td>\n",
       "    </tr>\n",
       "    <tr>\n",
       "      <th>4</th>\n",
       "      <td>28</td>\n",
       "      <td>3</td>\n",
       "      <td>338409</td>\n",
       "      <td>13</td>\n",
       "      <td>0</td>\n",
       "      <td>0</td>\n",
       "      <td>40</td>\n",
       "      <td>4</td>\n",
       "      <td>0</td>\n",
       "      <td>0</td>\n",
       "      <td>...</td>\n",
       "      <td>0</td>\n",
       "      <td>0</td>\n",
       "      <td>1</td>\n",
       "      <td>0</td>\n",
       "      <td>0</td>\n",
       "      <td>1</td>\n",
       "      <td>0</td>\n",
       "      <td>0</td>\n",
       "      <td>1</td>\n",
       "      <td>0</td>\n",
       "    </tr>\n",
       "  </tbody>\n",
       "</table>\n",
       "<p>5 rows × 43 columns</p>\n",
       "</div>"
      ],
      "text/plain": [
       "   age  work-class  work-fnl  education-num  capital-gain  capital-loss  \\\n",
       "0   39           6     77516             13          2174             0   \n",
       "1   50           5     83311             13             0             0   \n",
       "2   38           3    215646              9             0             0   \n",
       "3   53           3    234721              7             0             0   \n",
       "4   28           3    338409             13             0             0   \n",
       "\n",
       "   hours-per-week  native-country  salary  position_Adm-clerical  ...  \\\n",
       "0              40              38       0                      1  ...   \n",
       "1              13              38       0                      0  ...   \n",
       "2              40              38       0                      0  ...   \n",
       "3              40              38       0                      0  ...   \n",
       "4              40               4       0                      0  ...   \n",
       "\n",
       "   relationship_Own-child  relationship_Unmarried  relationship_Wife  \\\n",
       "0                       0                       0                  0   \n",
       "1                       0                       0                  0   \n",
       "2                       0                       0                  0   \n",
       "3                       0                       0                  0   \n",
       "4                       0                       0                  1   \n",
       "\n",
       "   race_Amer-Indian-Eskimo  race_Asian-Pac-Islander  race_Black  race_Other  \\\n",
       "0                        0                        0           0           0   \n",
       "1                        0                        0           0           0   \n",
       "2                        0                        0           0           0   \n",
       "3                        0                        0           1           0   \n",
       "4                        0                        0           1           0   \n",
       "\n",
       "   race_White  sex_Female  sex_Male  \n",
       "0           1           0         1  \n",
       "1           1           0         1  \n",
       "2           1           0         1  \n",
       "3           0           0         1  \n",
       "4           0           1         0  \n",
       "\n",
       "[5 rows x 43 columns]"
      ]
     },
     "execution_count": 181,
     "metadata": {},
     "output_type": "execute_result"
    }
   ],
   "source": [
    "le = preprocessing.LabelEncoder()\n",
    "\n",
    "data['salary'] = le.fit_transform(data.salary.values)\n",
    "# data['position'] = le.fit_transform(data.position.values)\n",
    "data['native-country'] = le.fit_transform(data['native-country'].values)\n",
    "data['work-class'] = le.fit_transform(data['work-class'].values)\n",
    "# data['marital-status'] = le.fit_transform(data['marital-status'].values)\n",
    "# data['relationship'] = le.fit_transform(data['relationship'].values)\n",
    "# data['race'] = le.fit_transform(data['race'].values)\n",
    "# data['sex'] = le.fit_transform(data['sex'].values)\n",
    "\n",
    "data.replace(['<=50K', '>50K'],\n",
    "             [0, 1], inplace=True)\n",
    "data.head()"
   ]
  },
  {
   "cell_type": "code",
   "execution_count": 182,
   "metadata": {},
   "outputs": [],
   "source": [
    "def remove_outlier_IQR(df):\n",
    "    num_columns = [x for x in data.columns if data[x].dtype !=object]\n",
    "    reduced_df=data[num_columns]\n",
    "    Q1=reduced_df.quantile(0.25)\n",
    "    Q3=reduced_df.quantile(0.75)\n",
    "    IQR=Q3-Q1\n",
    "    df_final_index=reduced_df[~((reduced_df<(Q1-1.5*IQR)) | (reduced_df>(Q3+1.5*IQR)))].index\n",
    "    return data.loc[df_final_index.values]"
   ]
  },
  {
   "cell_type": "code",
   "execution_count": 183,
   "metadata": {},
   "outputs": [],
   "source": [
    "data = remove_outlier_IQR(data)"
   ]
  },
  {
   "cell_type": "code",
   "execution_count": 184,
   "metadata": {},
   "outputs": [],
   "source": [
    "#balance data\n",
    "# X = data.drop('salary', axis = 1)\n",
    "# y = data['salary']\n",
    "# robust = RobustScaler()\n",
    "# X_scaled = robust.fit_transform(X)"
   ]
  },
  {
   "cell_type": "code",
   "execution_count": 185,
   "metadata": {},
   "outputs": [],
   "source": [
    "# data = data[(np.abs(stats.zscore(data)) < 3).all(axis=1)]"
   ]
  },
  {
   "cell_type": "code",
   "execution_count": 186,
   "metadata": {},
   "outputs": [],
   "source": [
    "train_dataset = data.sample(frac=0.8, random_state=0)\n",
    "test_dataset = data.drop(train_dataset.index)\n"
   ]
  },
  {
   "cell_type": "code",
   "execution_count": 187,
   "metadata": {},
   "outputs": [],
   "source": [
    "train_features = train_dataset.copy()\n",
    "test_features = test_dataset.copy()\n",
    "\n",
    "train_labels = train_features.pop('salary')\n",
    "test_labels = test_features.pop('salary')\n"
   ]
  },
  {
   "cell_type": "code",
   "execution_count": 188,
   "metadata": {},
   "outputs": [
    {
     "data": {
      "text/html": [
       "<div>\n",
       "<style scoped>\n",
       "    .dataframe tbody tr th:only-of-type {\n",
       "        vertical-align: middle;\n",
       "    }\n",
       "\n",
       "    .dataframe tbody tr th {\n",
       "        vertical-align: top;\n",
       "    }\n",
       "\n",
       "    .dataframe thead th {\n",
       "        text-align: right;\n",
       "    }\n",
       "</style>\n",
       "<table border=\"1\" class=\"dataframe\">\n",
       "  <thead>\n",
       "    <tr style=\"text-align: right;\">\n",
       "      <th></th>\n",
       "      <th>mean</th>\n",
       "      <th>std</th>\n",
       "    </tr>\n",
       "  </thead>\n",
       "  <tbody>\n",
       "    <tr>\n",
       "      <th>capital-gain</th>\n",
       "      <td>1056.558117</td>\n",
       "      <td>7307.700830</td>\n",
       "    </tr>\n",
       "    <tr>\n",
       "      <th>capital-loss</th>\n",
       "      <td>85.288004</td>\n",
       "      <td>398.612525</td>\n",
       "    </tr>\n",
       "    <tr>\n",
       "      <th>work-fnl</th>\n",
       "      <td>189728.549555</td>\n",
       "      <td>105068.844997</td>\n",
       "    </tr>\n",
       "    <tr>\n",
       "      <th>age</th>\n",
       "      <td>38.595489</td>\n",
       "      <td>13.662685</td>\n",
       "    </tr>\n",
       "  </tbody>\n",
       "</table>\n",
       "</div>"
      ],
      "text/plain": [
       "                       mean            std\n",
       "capital-gain    1056.558117    7307.700830\n",
       "capital-loss      85.288004     398.612525\n",
       "work-fnl      189728.549555  105068.844997\n",
       "age               38.595489      13.662685"
      ]
     },
     "execution_count": 188,
     "metadata": {},
     "output_type": "execute_result"
    }
   ],
   "source": [
    "train_dataset[['capital-gain', 'capital-loss', 'work-fnl', 'age']].describe().transpose()[['mean', 'std']]"
   ]
  },
  {
   "cell_type": "code",
   "execution_count": 189,
   "metadata": {},
   "outputs": [],
   "source": [
    "normalizer = tf.keras.layers.Normalization(axis=-1)\n"
   ]
  },
  {
   "cell_type": "code",
   "execution_count": 190,
   "metadata": {},
   "outputs": [],
   "source": [
    "normalizer.adapt(np.array(train_features))"
   ]
  },
  {
   "cell_type": "code",
   "execution_count": 192,
   "metadata": {},
   "outputs": [],
   "source": [
    "model = tf.keras.Sequential([\n",
    "    normalizer,\n",
    "    tf.keras.layers.Dense(128, activation='relu'),\n",
    "    tf.keras.layers.Dense(128, activation='relu'),\n",
    "    tf.keras.layers.Dense(256, activation='relu'),\n",
    "    tf.keras.layers.Dense(512, activation='relu'),\n",
    "    tf.keras.layers.Dense(512, activation='relu'),\n",
    "    # tf.keras.layers.Dense(512, activation='relu'),\n",
    "    # tf.keras.layers.Dense(512, activation='relu'),\n",
    "    tf.keras.layers.Dense(256, activation='relu'),\n",
    "    tf.keras.layers.Dense(128, activation='relu'),\n",
    "    tf.keras.layers.Dense(64, activation='relu'),\n",
    "    tf.keras.layers.Dense(2)\n",
    "])\n"
   ]
  },
  {
   "cell_type": "code",
   "execution_count": 193,
   "metadata": {},
   "outputs": [],
   "source": [
    "model.compile(optimizer=tf.keras.optimizers.Adam(learning_rate=0.00001),\n",
    "              loss=tf.keras.losses.SparseCategoricalCrossentropy(from_logits=True),\n",
    "              metrics=['accuracy'])\n"
   ]
  },
  {
   "cell_type": "code",
   "execution_count": 194,
   "metadata": {},
   "outputs": [
    {
     "name": "stdout",
     "output_type": "stream",
     "text": [
      "Epoch 1/50\n",
      "570/570 [==============================] - 5s 7ms/step - loss: 0.5258 - accuracy: 0.7503 - val_loss: 0.4151 - val_accuracy: 0.8031\n",
      "Epoch 2/50\n",
      "570/570 [==============================] - 4s 7ms/step - loss: 0.3697 - accuracy: 0.8264 - val_loss: 0.3611 - val_accuracy: 0.8281\n",
      "Epoch 3/50\n",
      "570/570 [==============================] - 4s 6ms/step - loss: 0.3441 - accuracy: 0.8390 - val_loss: 0.3511 - val_accuracy: 0.8294\n",
      "Epoch 4/50\n",
      "570/570 [==============================] - 4s 6ms/step - loss: 0.3357 - accuracy: 0.8441 - val_loss: 0.3503 - val_accuracy: 0.8336\n",
      "Epoch 5/50\n",
      "570/570 [==============================] - 4s 7ms/step - loss: 0.3314 - accuracy: 0.8452 - val_loss: 0.3435 - val_accuracy: 0.8369\n",
      "Epoch 6/50\n",
      "570/570 [==============================] - 4s 7ms/step - loss: 0.3268 - accuracy: 0.8489 - val_loss: 0.3435 - val_accuracy: 0.8371\n",
      "Epoch 7/50\n",
      "570/570 [==============================] - 4s 7ms/step - loss: 0.3235 - accuracy: 0.8507 - val_loss: 0.3409 - val_accuracy: 0.8382\n",
      "Epoch 8/50\n",
      "570/570 [==============================] - 4s 7ms/step - loss: 0.3205 - accuracy: 0.8511 - val_loss: 0.3399 - val_accuracy: 0.8417\n",
      "Epoch 9/50\n",
      "570/570 [==============================] - 4s 6ms/step - loss: 0.3178 - accuracy: 0.8538 - val_loss: 0.3397 - val_accuracy: 0.8406\n",
      "Epoch 10/50\n",
      "570/570 [==============================] - 4s 7ms/step - loss: 0.3155 - accuracy: 0.8542 - val_loss: 0.3396 - val_accuracy: 0.8393\n",
      "Epoch 11/50\n",
      "570/570 [==============================] - 4s 7ms/step - loss: 0.3134 - accuracy: 0.8558 - val_loss: 0.3348 - val_accuracy: 0.8448\n",
      "Epoch 12/50\n",
      "570/570 [==============================] - 4s 7ms/step - loss: 0.3109 - accuracy: 0.8562 - val_loss: 0.3384 - val_accuracy: 0.8408\n",
      "Epoch 13/50\n",
      "570/570 [==============================] - 4s 7ms/step - loss: 0.3092 - accuracy: 0.8588 - val_loss: 0.3356 - val_accuracy: 0.8437\n",
      "Epoch 14/50\n",
      "570/570 [==============================] - 4s 7ms/step - loss: 0.3070 - accuracy: 0.8593 - val_loss: 0.3405 - val_accuracy: 0.8349\n",
      "Epoch 15/50\n",
      "570/570 [==============================] - 4s 8ms/step - loss: 0.3052 - accuracy: 0.8603 - val_loss: 0.3336 - val_accuracy: 0.8457\n",
      "Epoch 16/50\n",
      "570/570 [==============================] - 5s 9ms/step - loss: 0.3037 - accuracy: 0.8613 - val_loss: 0.3383 - val_accuracy: 0.8371\n",
      "Epoch 17/50\n",
      "570/570 [==============================] - 3s 6ms/step - loss: 0.3014 - accuracy: 0.8619 - val_loss: 0.3339 - val_accuracy: 0.8457\n",
      "Epoch 18/50\n",
      "570/570 [==============================] - 4s 7ms/step - loss: 0.2999 - accuracy: 0.8625 - val_loss: 0.3412 - val_accuracy: 0.8358\n",
      "Epoch 19/50\n",
      "570/570 [==============================] - 3s 6ms/step - loss: 0.2986 - accuracy: 0.8641 - val_loss: 0.3372 - val_accuracy: 0.8417\n",
      "Epoch 20/50\n",
      "570/570 [==============================] - 4s 7ms/step - loss: 0.2971 - accuracy: 0.8641 - val_loss: 0.3347 - val_accuracy: 0.8435\n",
      "Epoch 21/50\n",
      "570/570 [==============================] - 3s 6ms/step - loss: 0.2954 - accuracy: 0.8636 - val_loss: 0.3333 - val_accuracy: 0.8432\n",
      "Epoch 22/50\n",
      "570/570 [==============================] - 4s 6ms/step - loss: 0.2940 - accuracy: 0.8653 - val_loss: 0.3345 - val_accuracy: 0.8443\n",
      "Epoch 23/50\n",
      "570/570 [==============================] - 3s 6ms/step - loss: 0.2920 - accuracy: 0.8657 - val_loss: 0.3342 - val_accuracy: 0.8424\n",
      "Epoch 24/50\n",
      "570/570 [==============================] - 3s 6ms/step - loss: 0.2910 - accuracy: 0.8653 - val_loss: 0.3343 - val_accuracy: 0.8448\n",
      "Epoch 25/50\n",
      "570/570 [==============================] - 3s 6ms/step - loss: 0.2894 - accuracy: 0.8653 - val_loss: 0.3349 - val_accuracy: 0.8424\n",
      "Epoch 26/50\n",
      "570/570 [==============================] - 4s 6ms/step - loss: 0.2878 - accuracy: 0.8663 - val_loss: 0.3359 - val_accuracy: 0.8415\n",
      "Epoch 27/50\n",
      "570/570 [==============================] - 4s 6ms/step - loss: 0.2863 - accuracy: 0.8693 - val_loss: 0.3362 - val_accuracy: 0.8419\n",
      "Epoch 28/50\n",
      "570/570 [==============================] - 4s 7ms/step - loss: 0.2843 - accuracy: 0.8689 - val_loss: 0.3395 - val_accuracy: 0.8408\n",
      "Epoch 29/50\n",
      "570/570 [==============================] - 4s 7ms/step - loss: 0.2836 - accuracy: 0.8694 - val_loss: 0.3399 - val_accuracy: 0.8415\n",
      "Epoch 30/50\n",
      "570/570 [==============================] - 4s 6ms/step - loss: 0.2826 - accuracy: 0.8702 - val_loss: 0.3380 - val_accuracy: 0.8417\n",
      "Epoch 31/50\n",
      "570/570 [==============================] - 4s 6ms/step - loss: 0.2799 - accuracy: 0.8722 - val_loss: 0.3427 - val_accuracy: 0.8424\n",
      "Epoch 32/50\n",
      "570/570 [==============================] - 3s 6ms/step - loss: 0.2789 - accuracy: 0.8716 - val_loss: 0.3383 - val_accuracy: 0.8439\n",
      "Epoch 33/50\n",
      "570/570 [==============================] - 5s 8ms/step - loss: 0.2776 - accuracy: 0.8723 - val_loss: 0.3380 - val_accuracy: 0.8428\n",
      "Epoch 34/50\n",
      "570/570 [==============================] - 4s 7ms/step - loss: 0.2766 - accuracy: 0.8730 - val_loss: 0.3398 - val_accuracy: 0.8426\n",
      "Epoch 35/50\n",
      "570/570 [==============================] - 3s 6ms/step - loss: 0.2748 - accuracy: 0.8737 - val_loss: 0.3434 - val_accuracy: 0.8373\n",
      "Epoch 36/50\n",
      "570/570 [==============================] - 4s 7ms/step - loss: 0.2731 - accuracy: 0.8743 - val_loss: 0.3413 - val_accuracy: 0.8432\n",
      "Epoch 37/50\n",
      "570/570 [==============================] - 4s 6ms/step - loss: 0.2721 - accuracy: 0.8752 - val_loss: 0.3439 - val_accuracy: 0.8395\n",
      "Epoch 38/50\n",
      "570/570 [==============================] - 3s 6ms/step - loss: 0.2703 - accuracy: 0.8753 - val_loss: 0.3438 - val_accuracy: 0.8446\n",
      "Epoch 39/50\n",
      "570/570 [==============================] - 3s 6ms/step - loss: 0.2691 - accuracy: 0.8767 - val_loss: 0.3481 - val_accuracy: 0.8393\n",
      "Epoch 40/50\n",
      "570/570 [==============================] - 3s 6ms/step - loss: 0.2681 - accuracy: 0.8778 - val_loss: 0.3438 - val_accuracy: 0.8413\n",
      "Epoch 41/50\n",
      "570/570 [==============================] - 3s 6ms/step - loss: 0.2666 - accuracy: 0.8786 - val_loss: 0.3436 - val_accuracy: 0.8426\n",
      "Epoch 42/50\n",
      "570/570 [==============================] - 3s 6ms/step - loss: 0.2651 - accuracy: 0.8786 - val_loss: 0.3462 - val_accuracy: 0.8395\n",
      "Epoch 43/50\n",
      "570/570 [==============================] - 4s 6ms/step - loss: 0.2635 - accuracy: 0.8799 - val_loss: 0.3491 - val_accuracy: 0.8386\n",
      "Epoch 44/50\n",
      "570/570 [==============================] - 4s 6ms/step - loss: 0.2620 - accuracy: 0.8792 - val_loss: 0.3485 - val_accuracy: 0.8400\n",
      "Epoch 45/50\n",
      "570/570 [==============================] - 4s 6ms/step - loss: 0.2604 - accuracy: 0.8815 - val_loss: 0.3500 - val_accuracy: 0.8393\n",
      "Epoch 46/50\n",
      "570/570 [==============================] - 4s 7ms/step - loss: 0.2590 - accuracy: 0.8834 - val_loss: 0.3502 - val_accuracy: 0.8389\n",
      "Epoch 47/50\n",
      "570/570 [==============================] - 4s 6ms/step - loss: 0.2572 - accuracy: 0.8810 - val_loss: 0.3548 - val_accuracy: 0.8400\n",
      "Epoch 48/50\n",
      "570/570 [==============================] - 3s 6ms/step - loss: 0.2557 - accuracy: 0.8832 - val_loss: 0.3534 - val_accuracy: 0.8397\n",
      "Epoch 49/50\n",
      "570/570 [==============================] - 3s 6ms/step - loss: 0.2545 - accuracy: 0.8835 - val_loss: 0.3524 - val_accuracy: 0.8406\n",
      "Epoch 50/50\n",
      "570/570 [==============================] - 3s 6ms/step - loss: 0.2536 - accuracy: 0.8848 - val_loss: 0.3570 - val_accuracy: 0.8371\n"
     ]
    }
   ],
   "source": [
    "r = model.fit(train_features, train_labels, validation_data=(test_features, test_labels), epochs=50)\n"
   ]
  },
  {
   "cell_type": "code",
   "execution_count": 106,
   "metadata": {},
   "outputs": [],
   "source": [
    "test = pd.read_csv('test.csv')\n",
    "test = test.drop('education', axis=1)\n",
    "test = test.applymap(lambda x: x.strip() if isinstance(x, str) else x)\n",
    "test = test.replace('?', np.nan)\n",
    "\n",
    "test = pd.get_dummies(test, columns=['position'], prefix='position')\n",
    "# test = pd.get_dummies(test, columns=['native-country'], prefix='country')\n",
    "# test = pd.get_dummies(test, columns=['work-class'], prefix='work')\n",
    "test = pd.get_dummies(test, columns=['marital-status'], prefix='marital')\n",
    "test = pd.get_dummies(test, columns=['relationship'], prefix='relationship')\n",
    "test = pd.get_dummies(test, columns=['race'], prefix='race')\n",
    "test = pd.get_dummies(test, columns=['sex'], prefix='sex')\n",
    "\n",
    "# test.insert(34, 'country_Holand-Netherlands', 0)\n",
    "\n",
    "le = preprocessing.LabelEncoder()\n",
    "\n",
    "test['native-country'] = le.fit_transform(test['native-country'].values)\n",
    "test['work-class'] = le.fit_transform(test['work-class'].values)\n"
   ]
  },
  {
   "cell_type": "code",
   "execution_count": 195,
   "metadata": {},
   "outputs": [
    {
     "name": "stdout",
     "output_type": "stream",
     "text": [
      "306/306 [==============================] - 1s 3ms/step\n"
     ]
    },
    {
     "data": {
      "text/plain": [
       "array([[ 4.906, -3.699],\n",
       "       [ 0.704, -0.13 ],\n",
       "       [ 4.88 , -3.347],\n",
       "       ...,\n",
       "       [ 0.485,  0.117],\n",
       "       [ 3.364, -1.919],\n",
       "       [ 4.354, -2.802]], dtype=float32)"
      ]
     },
     "execution_count": 195,
     "metadata": {},
     "output_type": "execute_result"
    }
   ],
   "source": [
    "predictions = model.predict(test)\n",
    "predictions"
   ]
  },
  {
   "cell_type": "code",
   "execution_count": 108,
   "metadata": {},
   "outputs": [],
   "source": [
    "predictions = np.argmax(predictions, axis=1)"
   ]
  },
  {
   "cell_type": "code",
   "execution_count": 109,
   "metadata": {},
   "outputs": [],
   "source": [
    "submission = pd.DataFrame({'index': test.index, 'salary': predictions})\n",
    "\n",
    "submission['salary'].replace([0, 1], ['<=50K', '>50K'], inplace=True)\n",
    "\n",
    "submission.to_csv('submission.csv', index=False)\n"
   ]
  },
  {
   "cell_type": "code",
   "execution_count": 111,
   "metadata": {},
   "outputs": [],
   "source": [
    "df = pd.read_csv('submission.csv')\n",
    "\n",
    "df['salary'] = df['salary'].apply(lambda x: ' ' + x)\n",
    "\n",
    "# Save the modified DataFrame to a new CSV file\n",
    "df.to_csv('modified_file.csv', index=False)"
   ]
  }
 ],
 "metadata": {
  "kernelspec": {
   "display_name": "Python 3.9.2 64-bit",
   "language": "python",
   "name": "python3"
  },
  "language_info": {
   "codemirror_mode": {
    "name": "ipython",
    "version": 3
   },
   "file_extension": ".py",
   "mimetype": "text/x-python",
   "name": "python",
   "nbconvert_exporter": "python",
   "pygments_lexer": "ipython3",
   "version": "3.9.2 (tags/v3.9.2:1a79785, Feb 19 2021, 13:44:55) [MSC v.1928 64 bit (AMD64)]"
  },
  "orig_nbformat": 4,
  "vscode": {
   "interpreter": {
    "hash": "8f8cf99212f81ad0c4765861267244807ee1c18364846cdce387b28994a977ba"
   }
  }
 },
 "nbformat": 4,
 "nbformat_minor": 2
}
