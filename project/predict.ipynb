{
 "cells": [
  {
   "cell_type": "code",
   "execution_count": 3,
   "metadata": {},
   "outputs": [],
   "source": [
    "import numpy as np\n",
    "import pandas as pd\n",
    "import matplotlib.pyplot as plt\n",
    "import seaborn as sns\n",
    "\n",
    "# Make NumPy printouts easier to read.\n",
    "np.set_printoptions(precision=3, suppress=True)\n",
    "\n",
    "from sklearn import preprocessing\n",
    "\n",
    "import tensorflow as tf\n",
    "\n",
    "from tensorflow.keras.layers import Dense, Normalization\n",
    "from tensorflow.keras.models import Model\n",
    "from tensorflow.keras import regularizers\n",
    "\n",
    "from scipy import stats\n"
   ]
  },
  {
   "cell_type": "code",
   "execution_count": 4,
   "metadata": {},
   "outputs": [],
   "source": [
    "data = pd.read_csv(\"data.csv\")"
   ]
  },
  {
   "cell_type": "code",
   "execution_count": 5,
   "metadata": {},
   "outputs": [],
   "source": [
    "# list(data['native-country'].unique())"
   ]
  },
  {
   "cell_type": "code",
   "execution_count": 6,
   "metadata": {},
   "outputs": [
    {
     "data": {
      "text/html": [
       "<div>\n",
       "<style scoped>\n",
       "    .dataframe tbody tr th:only-of-type {\n",
       "        vertical-align: middle;\n",
       "    }\n",
       "\n",
       "    .dataframe tbody tr th {\n",
       "        vertical-align: top;\n",
       "    }\n",
       "\n",
       "    .dataframe thead th {\n",
       "        text-align: right;\n",
       "    }\n",
       "</style>\n",
       "<table border=\"1\" class=\"dataframe\">\n",
       "  <thead>\n",
       "    <tr style=\"text-align: right;\">\n",
       "      <th></th>\n",
       "      <th>age</th>\n",
       "      <th>work-class</th>\n",
       "      <th>work-fnl</th>\n",
       "      <th>education</th>\n",
       "      <th>education-num</th>\n",
       "      <th>marital-status</th>\n",
       "      <th>position</th>\n",
       "      <th>relationship</th>\n",
       "      <th>race</th>\n",
       "      <th>sex</th>\n",
       "      <th>capital-gain</th>\n",
       "      <th>capital-loss</th>\n",
       "      <th>hours-per-week</th>\n",
       "      <th>native-country</th>\n",
       "      <th>salary</th>\n",
       "    </tr>\n",
       "  </thead>\n",
       "  <tbody>\n",
       "    <tr>\n",
       "      <th>0</th>\n",
       "      <td>39</td>\n",
       "      <td>State-gov</td>\n",
       "      <td>77516</td>\n",
       "      <td>Bachelors</td>\n",
       "      <td>13</td>\n",
       "      <td>Never-married</td>\n",
       "      <td>Adm-clerical</td>\n",
       "      <td>Not-in-family</td>\n",
       "      <td>White</td>\n",
       "      <td>Male</td>\n",
       "      <td>2174</td>\n",
       "      <td>0</td>\n",
       "      <td>40</td>\n",
       "      <td>United-States</td>\n",
       "      <td>&lt;=50K</td>\n",
       "    </tr>\n",
       "    <tr>\n",
       "      <th>1</th>\n",
       "      <td>50</td>\n",
       "      <td>Self-emp-not-inc</td>\n",
       "      <td>83311</td>\n",
       "      <td>Bachelors</td>\n",
       "      <td>13</td>\n",
       "      <td>Married-civ-spouse</td>\n",
       "      <td>Exec-managerial</td>\n",
       "      <td>Husband</td>\n",
       "      <td>White</td>\n",
       "      <td>Male</td>\n",
       "      <td>0</td>\n",
       "      <td>0</td>\n",
       "      <td>13</td>\n",
       "      <td>United-States</td>\n",
       "      <td>&lt;=50K</td>\n",
       "    </tr>\n",
       "    <tr>\n",
       "      <th>2</th>\n",
       "      <td>38</td>\n",
       "      <td>Private</td>\n",
       "      <td>215646</td>\n",
       "      <td>HS-grad</td>\n",
       "      <td>9</td>\n",
       "      <td>Divorced</td>\n",
       "      <td>Handlers-cleaners</td>\n",
       "      <td>Not-in-family</td>\n",
       "      <td>White</td>\n",
       "      <td>Male</td>\n",
       "      <td>0</td>\n",
       "      <td>0</td>\n",
       "      <td>40</td>\n",
       "      <td>United-States</td>\n",
       "      <td>&lt;=50K</td>\n",
       "    </tr>\n",
       "    <tr>\n",
       "      <th>3</th>\n",
       "      <td>53</td>\n",
       "      <td>Private</td>\n",
       "      <td>234721</td>\n",
       "      <td>11th</td>\n",
       "      <td>7</td>\n",
       "      <td>Married-civ-spouse</td>\n",
       "      <td>Handlers-cleaners</td>\n",
       "      <td>Husband</td>\n",
       "      <td>Black</td>\n",
       "      <td>Male</td>\n",
       "      <td>0</td>\n",
       "      <td>0</td>\n",
       "      <td>40</td>\n",
       "      <td>United-States</td>\n",
       "      <td>&lt;=50K</td>\n",
       "    </tr>\n",
       "    <tr>\n",
       "      <th>4</th>\n",
       "      <td>28</td>\n",
       "      <td>Private</td>\n",
       "      <td>338409</td>\n",
       "      <td>Bachelors</td>\n",
       "      <td>13</td>\n",
       "      <td>Married-civ-spouse</td>\n",
       "      <td>Prof-specialty</td>\n",
       "      <td>Wife</td>\n",
       "      <td>Black</td>\n",
       "      <td>Female</td>\n",
       "      <td>0</td>\n",
       "      <td>0</td>\n",
       "      <td>40</td>\n",
       "      <td>Cuba</td>\n",
       "      <td>&lt;=50K</td>\n",
       "    </tr>\n",
       "  </tbody>\n",
       "</table>\n",
       "</div>"
      ],
      "text/plain": [
       "   age         work-class  work-fnl   education  education-num  \\\n",
       "0   39          State-gov     77516   Bachelors             13   \n",
       "1   50   Self-emp-not-inc     83311   Bachelors             13   \n",
       "2   38            Private    215646     HS-grad              9   \n",
       "3   53            Private    234721        11th              7   \n",
       "4   28            Private    338409   Bachelors             13   \n",
       "\n",
       "        marital-status            position    relationship    race      sex  \\\n",
       "0        Never-married        Adm-clerical   Not-in-family   White     Male   \n",
       "1   Married-civ-spouse     Exec-managerial         Husband   White     Male   \n",
       "2             Divorced   Handlers-cleaners   Not-in-family   White     Male   \n",
       "3   Married-civ-spouse   Handlers-cleaners         Husband   Black     Male   \n",
       "4   Married-civ-spouse      Prof-specialty            Wife   Black   Female   \n",
       "\n",
       "   capital-gain  capital-loss  hours-per-week  native-country  salary  \n",
       "0          2174             0              40   United-States   <=50K  \n",
       "1             0             0              13   United-States   <=50K  \n",
       "2             0             0              40   United-States   <=50K  \n",
       "3             0             0              40   United-States   <=50K  \n",
       "4             0             0              40            Cuba   <=50K  "
      ]
     },
     "execution_count": 6,
     "metadata": {},
     "output_type": "execute_result"
    }
   ],
   "source": [
    "data.head()"
   ]
  },
  {
   "cell_type": "code",
   "execution_count": 7,
   "metadata": {},
   "outputs": [],
   "source": [
    "data = data.applymap(lambda x: x.strip() if isinstance(x, str) else x)"
   ]
  },
  {
   "cell_type": "code",
   "execution_count": 8,
   "metadata": {},
   "outputs": [],
   "source": [
    "# data = data.replace({'?': np.nan})\n",
    "# for col in data.columns:\n",
    "#     data[col] = data[col].fillna(data[col].mode()[0])\n",
    "    \n",
    "data = data[~(data.T == '?').any()]"
   ]
  },
  {
   "cell_type": "code",
   "execution_count": 9,
   "metadata": {},
   "outputs": [],
   "source": [
    "position_mapping = {\n",
    "    'Other-service': 1,   # 2161 100     21.6%\n",
    "    'Priv-house-serv': 2,  # 108 0\n",
    "    'Handlers-cleaners': 3, # 845 59     14.2%\n",
    "    'Farming-fishing': 4,  # 602 80      7.5%\n",
    "    'Machine-op-inspct': 5, # 1227 165   7.4%\n",
    "    'Adm-clerical': 6,    # 2324 354    6.5%\n",
    "    'Armed-Forces': 7,   # 7 0\n",
    "    'Transport-moving': 8,  # 867 230    3.8%\n",
    "    'Craft-repair': 9,    # 2177 627     3.47%\n",
    "    'Protective-serv': 10,  # 308 145     2.1%\n",
    "    'Sales': 11,         # 1864 665      2.8%\n",
    "    'Tech-support': 12,     # 433 196     2.2%\n",
    "    'Prof-specialty': 13, # 1572 1257    1.3%\n",
    "    'Exec-managerial': 14 # 1407 1328    1.1%\n",
    "}\n",
    "\n",
    "# Use the mapping dictionary to transform the data\n",
    "data['position_encoded'] = data['position'].map(position_mapping)\n",
    "\n",
    "data.drop('position', axis=1, inplace=True)"
   ]
  },
  {
   "cell_type": "code",
   "execution_count": 10,
   "metadata": {},
   "outputs": [],
   "source": [
    "workclass_mapping = {\n",
    "    'Never-worked': 1,\n",
    "    'Without-pay': 2,\n",
    "    'Local-gov': 3,\n",
    "    'Self-emp-not-inc': 4,\n",
    "    'State-gov': 5,\n",
    "    'Federal-gov': 6,\n",
    "    'Self-emp-inc': 7,\n",
    "    'Private': 8\n",
    "}\n",
    "\n",
    "# Use the mapping dictionary to transform the data\n",
    "data['work-class_encoded'] = data['work-class'].map(workclass_mapping)\n",
    "\n",
    "data.drop('work-class', axis=1, inplace=True)"
   ]
  },
  {
   "cell_type": "code",
   "execution_count": 11,
   "metadata": {},
   "outputs": [],
   "source": [
    "marital_status_mapping = {\n",
    "    'Divorced': 1,\n",
    "    'Widowed': 2,\n",
    "    'Separated': 3,\n",
    "    'Never-married': 4,\n",
    "    'Married-spouse-absent': 5,\n",
    "    'Married-AF-spouse': 6,\n",
    "    'Married-civ-spouse': 7\n",
    "}\n",
    "\n",
    "# Use the mapping dictionary to transform the data\n",
    "data['marital-status_encoded'] = data['marital-status'].map(marital_status_mapping)\n",
    "\n",
    "data.drop('marital-status', axis=1, inplace=True)"
   ]
  },
  {
   "cell_type": "code",
   "execution_count": 12,
   "metadata": {},
   "outputs": [],
   "source": [
    "relationship_mapping = {\n",
    "    'Not-in-family': 1,\n",
    "    'Wife': 2,\n",
    "    'Own-child': 3,\n",
    "    'Unmarried': 4,\n",
    "    'Other-relative': 5, \n",
    "    'Husband': 6\n",
    "}\n",
    "\n",
    "# Use the mapping dictionary to transform the data\n",
    "data['relationship_encoded'] = data['relationship'].map(relationship_mapping)\n",
    "\n",
    "data.drop('relationship', axis=1, inplace=True)"
   ]
  },
  {
   "cell_type": "code",
   "execution_count": 13,
   "metadata": {},
   "outputs": [],
   "source": [
    "race_mapping = {\n",
    "    'Other': 1,                 # 156  12       13.0%\n",
    "    'Amer-Indian-Eskimo': 2,    # 179  25       7.04%\n",
    "    'Black': 6,                 # 1712 256      6.68%\n",
    "    'Asian-Pac-Islander': 7,    # 448 162       2.76%\n",
    "    'White': 13,                 # 13407 4751    2.8%\n",
    "}\n",
    "\n",
    "# Use the mapping dictionary to transform the data\n",
    "data['race_encoded'] = data['race'].map(race_mapping)\n",
    "\n",
    "data.drop('race', axis=1, inplace=True)"
   ]
  },
  {
   "cell_type": "code",
   "execution_count": 14,
   "metadata": {},
   "outputs": [],
   "source": [
    "sex_mapping = {\n",
    "    'Female': 2,\n",
    "    'Male': 7\n",
    "}\n",
    "\n",
    "# Use the mapping dictionary to transform the data\n",
    "data['sex_encoded'] = data['sex'].map(sex_mapping)\n",
    "\n",
    "data.drop('sex', axis=1, inplace=True)"
   ]
  },
  {
   "cell_type": "code",
   "execution_count": 15,
   "metadata": {},
   "outputs": [],
   "source": [
    "native_country_mapping = {\n",
    "    'United-States': 50,\n",
    "    'Holand-Netherlands': 43,\n",
    "    'Canada': 42,\n",
    "    'Hong': 41,\n",
    "    'Germany': 40,\n",
    "    'England': 39,\n",
    "    'Ireland': 38,\n",
    "    'Japan': 37,\n",
    "    'France': 36,\n",
    "    'Scotland': 35,\n",
    "    'South': 34,\n",
    "    'Puerto-Rico': 32,\n",
    "    'Italy': 31,\n",
    "    'Taiwan': 30,\n",
    "    'China': 29,\n",
    "    'Portugal': 28,\n",
    "    'Poland': 27,\n",
    "    'Trinadad&Tobago': 26,\n",
    "    'Hungary': 25,\n",
    "    'Greece': 24,\n",
    "    'India': 23,\n",
    "    'Mexico': 22,\n",
    "    'Jamaica': 21,\n",
    "    'Columbia': 20,\n",
    "    'Thailand': 19,\n",
    "    'Honduras': 18,\n",
    "    'Guatemala': 17,\n",
    "    'Cuba': 16,\n",
    "    'Ecuador': 15,\n",
    "    'Vietnam': 14,\n",
    "    'El-Salvador': 13,\n",
    "    'Peru': 12,\n",
    "    'Dominican-Republic': 11,\n",
    "    'Iran': 10,\n",
    "    'Philippines': 9,\n",
    "    'Yugoslavia': 8,\n",
    "    'Cambodia': 7,\n",
    "    'Laos': 6,\n",
    "    'Haiti': 5,\n",
    "    'Outlying-US(Guam-USVI-etc)': 4,\n",
    "    'Nicaragua': 3,\n",
    "}\n",
    "\n",
    "# Use the mapping dictionary to transform the data\n",
    "data['native-country_encoded'] = data['native-country'].map(native_country_mapping)\n",
    "\n",
    "data.drop('native-country', axis=1, inplace=True)"
   ]
  },
  {
   "cell_type": "code",
   "execution_count": 16,
   "metadata": {},
   "outputs": [
    {
     "data": {
      "text/plain": [
       "<=50K    75\n",
       ">50K     10\n",
       "Name: salary, dtype: int64"
      ]
     },
     "execution_count": 16,
     "metadata": {},
     "output_type": "execute_result"
    }
   ],
   "source": [
    "# salaries where position is Exec-managerial\n",
    "data[data['native-country_encoded'] == 32]['salary'].value_counts()"
   ]
  },
  {
   "cell_type": "code",
   "execution_count": 17,
   "metadata": {},
   "outputs": [],
   "source": [
    "data = data.drop('education', axis=1)\n",
    "# data = data.drop('race_encoded', axis=1)\n",
    "# data = data.drop('native-country_encoded', axis=1)\n",
    "# data = data.drop('work-fnl', axis=1)\n",
    "# data = data.drop('work-class_encoded', axis=1)"
   ]
  },
  {
   "cell_type": "code",
   "execution_count": 58,
   "metadata": {},
   "outputs": [
    {
     "data": {
      "text/html": [
       "<div>\n",
       "<style scoped>\n",
       "    .dataframe tbody tr th:only-of-type {\n",
       "        vertical-align: middle;\n",
       "    }\n",
       "\n",
       "    .dataframe tbody tr th {\n",
       "        vertical-align: top;\n",
       "    }\n",
       "\n",
       "    .dataframe thead th {\n",
       "        text-align: right;\n",
       "    }\n",
       "</style>\n",
       "<table border=\"1\" class=\"dataframe\">\n",
       "  <thead>\n",
       "    <tr style=\"text-align: right;\">\n",
       "      <th></th>\n",
       "      <th>age</th>\n",
       "      <th>education-num</th>\n",
       "      <th>capital-gain</th>\n",
       "      <th>capital-loss</th>\n",
       "      <th>hours-per-week</th>\n",
       "      <th>salary</th>\n",
       "      <th>position_encoded</th>\n",
       "      <th>marital-status_encoded</th>\n",
       "      <th>relationship_encoded</th>\n",
       "      <th>sex_encoded</th>\n",
       "    </tr>\n",
       "  </thead>\n",
       "  <tbody>\n",
       "    <tr>\n",
       "      <th>0</th>\n",
       "      <td>39</td>\n",
       "      <td>13</td>\n",
       "      <td>2174</td>\n",
       "      <td>0</td>\n",
       "      <td>40</td>\n",
       "      <td>&lt;=50K</td>\n",
       "      <td>6</td>\n",
       "      <td>4</td>\n",
       "      <td>1</td>\n",
       "      <td>7</td>\n",
       "    </tr>\n",
       "    <tr>\n",
       "      <th>1</th>\n",
       "      <td>50</td>\n",
       "      <td>13</td>\n",
       "      <td>0</td>\n",
       "      <td>0</td>\n",
       "      <td>13</td>\n",
       "      <td>&lt;=50K</td>\n",
       "      <td>14</td>\n",
       "      <td>7</td>\n",
       "      <td>6</td>\n",
       "      <td>7</td>\n",
       "    </tr>\n",
       "    <tr>\n",
       "      <th>2</th>\n",
       "      <td>38</td>\n",
       "      <td>9</td>\n",
       "      <td>0</td>\n",
       "      <td>0</td>\n",
       "      <td>40</td>\n",
       "      <td>&lt;=50K</td>\n",
       "      <td>3</td>\n",
       "      <td>1</td>\n",
       "      <td>1</td>\n",
       "      <td>7</td>\n",
       "    </tr>\n",
       "    <tr>\n",
       "      <th>3</th>\n",
       "      <td>53</td>\n",
       "      <td>7</td>\n",
       "      <td>0</td>\n",
       "      <td>0</td>\n",
       "      <td>40</td>\n",
       "      <td>&lt;=50K</td>\n",
       "      <td>3</td>\n",
       "      <td>7</td>\n",
       "      <td>6</td>\n",
       "      <td>7</td>\n",
       "    </tr>\n",
       "    <tr>\n",
       "      <th>4</th>\n",
       "      <td>28</td>\n",
       "      <td>13</td>\n",
       "      <td>0</td>\n",
       "      <td>0</td>\n",
       "      <td>40</td>\n",
       "      <td>&lt;=50K</td>\n",
       "      <td>13</td>\n",
       "      <td>7</td>\n",
       "      <td>2</td>\n",
       "      <td>2</td>\n",
       "    </tr>\n",
       "  </tbody>\n",
       "</table>\n",
       "</div>"
      ],
      "text/plain": [
       "   age  education-num  capital-gain  capital-loss  hours-per-week salary  \\\n",
       "0   39             13          2174             0              40  <=50K   \n",
       "1   50             13             0             0              13  <=50K   \n",
       "2   38              9             0             0              40  <=50K   \n",
       "3   53              7             0             0              40  <=50K   \n",
       "4   28             13             0             0              40  <=50K   \n",
       "\n",
       "   position_encoded  marital-status_encoded  relationship_encoded  sex_encoded  \n",
       "0                 6                       4                     1            7  \n",
       "1                14                       7                     6            7  \n",
       "2                 3                       1                     1            7  \n",
       "3                 3                       7                     6            7  \n",
       "4                13                       7                     2            2  "
      ]
     },
     "execution_count": 58,
     "metadata": {},
     "output_type": "execute_result"
    }
   ],
   "source": [
    "data.head()"
   ]
  },
  {
   "cell_type": "code",
   "execution_count": 18,
   "metadata": {},
   "outputs": [
    {
     "data": {
      "text/plain": [
       "(21108, 14)"
      ]
     },
     "execution_count": 18,
     "metadata": {},
     "output_type": "execute_result"
    }
   ],
   "source": [
    "data = data.drop_duplicates()\n",
    "data.shape"
   ]
  },
  {
   "cell_type": "code",
   "execution_count": 60,
   "metadata": {},
   "outputs": [],
   "source": [
    "# data = pd.get_dummies(data, columns=['position'], prefix='position')\n",
    "# data = pd.get_dummies(data, columns=['native-country'], prefix='country')\n",
    "# data = pd.get_dummies(data, columns=['work-class'], prefix='work')\n",
    "# data = pd.get_dummies(data, columns=['marital-status'], prefix='marital')\n",
    "# data = pd.get_dummies(data, columns=['relationship'], prefix='relationship')\n",
    "# data = pd.get_dummies(data, columns=['race'], prefix='race')\n",
    "# data = pd.get_dummies(data, columns=['sex'], prefix='sex')\n",
    "\n",
    "# data.insert(63, 'work_Never-worked', 0)"
   ]
  },
  {
   "cell_type": "code",
   "execution_count": 19,
   "metadata": {},
   "outputs": [],
   "source": [
    "le = preprocessing.LabelEncoder()\n",
    "\n",
    "data.replace(['<=50K', '>50K'],\n",
    "             [0, 1], inplace=True)\n",
    "\n",
    "# data['salary'] = le.fit_transform(data.salary.values)\n",
    "# data['position'] = le.fit_transform(data.position.values)\n",
    "# data['native-country'] = le.fit_transform(data['native-country'].values)\n",
    "# data['work-class'] = le.fit_transform(data['work-class'].values)\n",
    "# data['marital-status'] = le.fit_transform(data['marital-status'].values)\n",
    "# data['relationship'] = le.fit_transform(data['relationship'].values)\n",
    "# data['race'] = le.fit_transform(data['race'].values)\n",
    "# data['sex'] = le.fit_transform(data['sex'].values)"
   ]
  },
  {
   "cell_type": "code",
   "execution_count": 62,
   "metadata": {},
   "outputs": [
    {
     "data": {
      "text/plain": [
       "salary                    1.000000\n",
       "marital-status_encoded    0.382176\n",
       "education-num             0.322886\n",
       "position_encoded          0.318952\n",
       "relationship_encoded      0.308075\n",
       "capital-gain              0.231474\n",
       "hours-per-week            0.219276\n",
       "age                       0.212197\n",
       "sex_encoded               0.209748\n",
       "capital-loss              0.155085\n",
       "Name: salary, dtype: float64"
      ]
     },
     "execution_count": 62,
     "metadata": {},
     "output_type": "execute_result"
    }
   ],
   "source": [
    "data.corr()['salary'].sort_values( ascending=False)"
   ]
  },
  {
   "cell_type": "code",
   "execution_count": 63,
   "metadata": {},
   "outputs": [
    {
     "data": {
      "text/plain": [
       "salary                    1.000000\n",
       "marital-status_encoded    0.382176\n",
       "education-num             0.322886\n",
       "position_encoded          0.318952\n",
       "relationship_encoded      0.308075\n",
       "capital-gain              0.231474\n",
       "hours-per-week            0.219276\n",
       "age                       0.212197\n",
       "sex_encoded               0.209748\n",
       "capital-loss              0.155085\n",
       "Name: salary, dtype: float64"
      ]
     },
     "execution_count": 63,
     "metadata": {},
     "output_type": "execute_result"
    }
   ],
   "source": [
    "data.corr()['salary'].sort_values(ascending=False)"
   ]
  },
  {
   "cell_type": "code",
   "execution_count": 64,
   "metadata": {},
   "outputs": [],
   "source": [
    "def remove_outlier_IQR(df):\n",
    "    num_columns = [x for x in data.columns if data[x].dtype !=object]\n",
    "    reduced_df=data[num_columns]\n",
    "    Q1=reduced_df.quantile(0.25)\n",
    "    Q3=reduced_df.quantile(0.75)\n",
    "    IQR=Q3-Q1\n",
    "    df_final_index=reduced_df[~((reduced_df<(Q1-1.5*IQR)) | (reduced_df>(Q3+1.5*IQR)))].index\n",
    "    return data.loc[df_final_index.values]"
   ]
  },
  {
   "cell_type": "code",
   "execution_count": 65,
   "metadata": {},
   "outputs": [],
   "source": [
    "# data = remove_outlier_IQR(data)"
   ]
  },
  {
   "cell_type": "code",
   "execution_count": 66,
   "metadata": {},
   "outputs": [],
   "source": [
    "# balance data\n",
    "# X = data.drop('salary', axis = 1)\n",
    "# y = data['salary']\n",
    "# robust = RobustScaler()\n",
    "# X_scaled = robust.fit_transform(X)"
   ]
  },
  {
   "cell_type": "code",
   "execution_count": 582,
   "metadata": {},
   "outputs": [],
   "source": [
    "# data = data[(np.abs(stats.zscore(data)) < 3).all(axis=1)]"
   ]
  },
  {
   "cell_type": "code",
   "execution_count": 20,
   "metadata": {},
   "outputs": [],
   "source": [
    "train_dataset = data.sample(frac=0.9, random_state=0)\n",
    "test_dataset = data.drop(train_dataset.index)\n"
   ]
  },
  {
   "cell_type": "code",
   "execution_count": 21,
   "metadata": {},
   "outputs": [],
   "source": [
    "train_features = train_dataset.copy()\n",
    "test_features = test_dataset.copy()\n",
    "\n",
    "train_labels = train_features.pop('salary')\n",
    "test_labels = test_features.pop('salary')\n"
   ]
  },
  {
   "cell_type": "code",
   "execution_count": 22,
   "metadata": {},
   "outputs": [],
   "source": [
    "normalizer = tf.keras.layers.Normalization(axis=-1)\n",
    "\n",
    "normalizer.adapt(np.array(train_features))\n"
   ]
  },
  {
   "cell_type": "code",
   "execution_count": 586,
   "metadata": {},
   "outputs": [],
   "source": [
    "from tensorflow.keras import regularizers\n",
    "\n",
    "model = tf.keras.Sequential([\n",
    "    normalizer,\n",
    "    tf.keras.layers.Dense(128, activation='relu', \n",
    "                          kernel_regularizer=regularizers.l2(0.01), \n",
    "                          bias_regularizer=regularizers.l2(0.01)),\n",
    "    tf.keras.layers.Dropout(0.1),\n",
    "    tf.keras.layers.Dense(128, activation='relu', \n",
    "                          kernel_regularizer=regularizers.l2(0.01), \n",
    "                          bias_regularizer=regularizers.l2(0.01)),\n",
    "    tf.keras.layers.Dropout(0.1),\n",
    "    tf.keras.layers.Dense(256, activation='relu', \n",
    "                          kernel_regularizer=regularizers.l2(0.01), \n",
    "                          bias_regularizer=regularizers.l2(0.01)),\n",
    "    tf.keras.layers.Dropout(0.1),\n",
    "    tf.keras.layers.Dense(256, activation='relu', \n",
    "                          kernel_regularizer=regularizers.l2(0.01), \n",
    "                          bias_regularizer=regularizers.l2(0.01)),\n",
    "    tf.keras.layers.Dropout(0.1),\n",
    "    tf.keras.layers.Dense(128, activation='relu', \n",
    "                          kernel_regularizer=regularizers.l2(0.01), \n",
    "                          bias_regularizer=regularizers.l2(0.01)),\n",
    "    tf.keras.layers.Dropout(0.1),\n",
    "    tf.keras.layers.Dense(64, activation='relu', \n",
    "                          kernel_regularizer=regularizers.l2(0.01), \n",
    "                          bias_regularizer=regularizers.l2(0.01)),\n",
    "    tf.keras.layers.Dense(2)\n",
    "])\n"
   ]
  },
  {
   "cell_type": "code",
   "execution_count": 587,
   "metadata": {},
   "outputs": [],
   "source": [
    "model.compile(optimizer=tf.keras.optimizers.Adam(learning_rate=0.00005),\n",
    "              loss=tf.keras.losses.SparseCategoricalCrossentropy(from_logits=True),\n",
    "              metrics=['accuracy'])\n"
   ]
  },
  {
   "cell_type": "code",
   "execution_count": 588,
   "metadata": {},
   "outputs": [
    {
     "name": "stdout",
     "output_type": "stream",
     "text": [
      "Epoch 1/45\n",
      "594/594 [==============================] - 5s 7ms/step - loss: 6.8098 - accuracy: 0.7779 - val_loss: 5.0269 - val_accuracy: 0.8285\n",
      "Epoch 2/45\n",
      "594/594 [==============================] - 3s 6ms/step - loss: 3.8742 - accuracy: 0.8299 - val_loss: 2.9219 - val_accuracy: 0.8394\n",
      "Epoch 3/45\n",
      "594/594 [==============================] - 3s 6ms/step - loss: 2.2962 - accuracy: 0.8339 - val_loss: 1.7788 - val_accuracy: 0.8389\n",
      "Epoch 4/45\n",
      "594/594 [==============================] - 3s 5ms/step - loss: 1.4482 - accuracy: 0.8368 - val_loss: 1.1784 - val_accuracy: 0.8380\n",
      "Epoch 5/45\n",
      "594/594 [==============================] - 3s 5ms/step - loss: 1.0114 - accuracy: 0.8393 - val_loss: 0.8707 - val_accuracy: 0.8404\n",
      "Epoch 6/45\n",
      "594/594 [==============================] - 3s 5ms/step - loss: 0.7875 - accuracy: 0.8388 - val_loss: 0.7130 - val_accuracy: 0.8432\n",
      "Epoch 7/45\n",
      "594/594 [==============================] - 3s 5ms/step - loss: 0.6697 - accuracy: 0.8409 - val_loss: 0.6271 - val_accuracy: 0.8427\n",
      "Epoch 8/45\n",
      "594/594 [==============================] - 3s 5ms/step - loss: 0.6024 - accuracy: 0.8403 - val_loss: 0.5739 - val_accuracy: 0.8484\n",
      "Epoch 9/45\n",
      "594/594 [==============================] - 3s 5ms/step - loss: 0.5602 - accuracy: 0.8442 - val_loss: 0.5399 - val_accuracy: 0.8465\n",
      "Epoch 10/45\n",
      "594/594 [==============================] - 3s 5ms/step - loss: 0.5303 - accuracy: 0.8448 - val_loss: 0.5142 - val_accuracy: 0.8498\n",
      "Epoch 11/45\n",
      "594/594 [==============================] - 4s 7ms/step - loss: 0.5092 - accuracy: 0.8449 - val_loss: 0.4954 - val_accuracy: 0.8517\n",
      "Epoch 12/45\n",
      "594/594 [==============================] - 3s 5ms/step - loss: 0.4925 - accuracy: 0.8455 - val_loss: 0.4818 - val_accuracy: 0.8494\n",
      "Epoch 13/45\n",
      "594/594 [==============================] - 3s 5ms/step - loss: 0.4792 - accuracy: 0.8450 - val_loss: 0.4700 - val_accuracy: 0.8560\n",
      "Epoch 14/45\n",
      "594/594 [==============================] - 3s 5ms/step - loss: 0.4705 - accuracy: 0.8463 - val_loss: 0.4612 - val_accuracy: 0.8536\n",
      "Epoch 15/45\n",
      "594/594 [==============================] - 3s 5ms/step - loss: 0.4612 - accuracy: 0.8449 - val_loss: 0.4536 - val_accuracy: 0.8565\n",
      "Epoch 16/45\n",
      "594/594 [==============================] - 3s 5ms/step - loss: 0.4546 - accuracy: 0.8460 - val_loss: 0.4472 - val_accuracy: 0.8546\n",
      "Epoch 17/45\n",
      "594/594 [==============================] - 3s 5ms/step - loss: 0.4485 - accuracy: 0.8467 - val_loss: 0.4413 - val_accuracy: 0.8546\n",
      "Epoch 18/45\n",
      "594/594 [==============================] - 3s 5ms/step - loss: 0.4419 - accuracy: 0.8467 - val_loss: 0.4362 - val_accuracy: 0.8550\n",
      "Epoch 19/45\n",
      "594/594 [==============================] - 3s 5ms/step - loss: 0.4367 - accuracy: 0.8473 - val_loss: 0.4333 - val_accuracy: 0.8489\n",
      "Epoch 20/45\n",
      "594/594 [==============================] - 3s 5ms/step - loss: 0.4347 - accuracy: 0.8464 - val_loss: 0.4276 - val_accuracy: 0.8574\n",
      "Epoch 21/45\n",
      "594/594 [==============================] - 3s 6ms/step - loss: 0.4296 - accuracy: 0.8482 - val_loss: 0.4255 - val_accuracy: 0.8527\n",
      "Epoch 22/45\n",
      "594/594 [==============================] - 4s 6ms/step - loss: 0.4277 - accuracy: 0.8486 - val_loss: 0.4233 - val_accuracy: 0.8555\n",
      "Epoch 23/45\n",
      "594/594 [==============================] - 3s 5ms/step - loss: 0.4252 - accuracy: 0.8472 - val_loss: 0.4213 - val_accuracy: 0.8465\n",
      "Epoch 24/45\n",
      "594/594 [==============================] - 3s 5ms/step - loss: 0.4232 - accuracy: 0.8470 - val_loss: 0.4177 - val_accuracy: 0.8550\n",
      "Epoch 25/45\n",
      "594/594 [==============================] - 3s 5ms/step - loss: 0.4209 - accuracy: 0.8465 - val_loss: 0.4159 - val_accuracy: 0.8513\n",
      "Epoch 26/45\n",
      "594/594 [==============================] - 3s 6ms/step - loss: 0.4172 - accuracy: 0.8476 - val_loss: 0.4152 - val_accuracy: 0.8550\n",
      "Epoch 27/45\n",
      "594/594 [==============================] - 3s 5ms/step - loss: 0.4172 - accuracy: 0.8476 - val_loss: 0.4116 - val_accuracy: 0.8546\n",
      "Epoch 28/45\n",
      "594/594 [==============================] - 3s 5ms/step - loss: 0.4145 - accuracy: 0.8498 - val_loss: 0.4113 - val_accuracy: 0.8565\n",
      "Epoch 29/45\n",
      "594/594 [==============================] - 3s 5ms/step - loss: 0.4138 - accuracy: 0.8487 - val_loss: 0.4098 - val_accuracy: 0.8569\n",
      "Epoch 30/45\n",
      "594/594 [==============================] - 3s 5ms/step - loss: 0.4120 - accuracy: 0.8467 - val_loss: 0.4079 - val_accuracy: 0.8555\n",
      "Epoch 31/45\n",
      "594/594 [==============================] - 3s 5ms/step - loss: 0.4097 - accuracy: 0.8488 - val_loss: 0.4079 - val_accuracy: 0.8560\n",
      "Epoch 32/45\n",
      "594/594 [==============================] - 3s 5ms/step - loss: 0.4092 - accuracy: 0.8482 - val_loss: 0.4052 - val_accuracy: 0.8532\n",
      "Epoch 33/45\n",
      "594/594 [==============================] - 3s 5ms/step - loss: 0.4078 - accuracy: 0.8496 - val_loss: 0.4069 - val_accuracy: 0.8565\n",
      "Epoch 34/45\n",
      "594/594 [==============================] - 3s 5ms/step - loss: 0.4063 - accuracy: 0.8487 - val_loss: 0.4031 - val_accuracy: 0.8541\n",
      "Epoch 35/45\n",
      "594/594 [==============================] - 3s 5ms/step - loss: 0.4050 - accuracy: 0.8481 - val_loss: 0.4026 - val_accuracy: 0.8546\n",
      "Epoch 36/45\n",
      "594/594 [==============================] - 3s 5ms/step - loss: 0.4054 - accuracy: 0.8493 - val_loss: 0.4016 - val_accuracy: 0.8517\n",
      "Epoch 37/45\n",
      "594/594 [==============================] - 3s 5ms/step - loss: 0.4037 - accuracy: 0.8496 - val_loss: 0.4018 - val_accuracy: 0.8569\n",
      "Epoch 38/45\n",
      "594/594 [==============================] - 3s 5ms/step - loss: 0.4036 - accuracy: 0.8493 - val_loss: 0.4002 - val_accuracy: 0.8555\n",
      "Epoch 39/45\n",
      "594/594 [==============================] - 3s 5ms/step - loss: 0.4016 - accuracy: 0.8478 - val_loss: 0.3992 - val_accuracy: 0.8541\n",
      "Epoch 40/45\n",
      "594/594 [==============================] - 3s 5ms/step - loss: 0.4007 - accuracy: 0.8500 - val_loss: 0.3983 - val_accuracy: 0.8555\n",
      "Epoch 41/45\n",
      "594/594 [==============================] - 3s 6ms/step - loss: 0.4013 - accuracy: 0.8489 - val_loss: 0.3980 - val_accuracy: 0.8565\n",
      "Epoch 42/45\n",
      "594/594 [==============================] - 3s 6ms/step - loss: 0.4008 - accuracy: 0.8505 - val_loss: 0.3972 - val_accuracy: 0.8522\n",
      "Epoch 43/45\n",
      "594/594 [==============================] - 3s 5ms/step - loss: 0.4000 - accuracy: 0.8482 - val_loss: 0.3969 - val_accuracy: 0.8546\n",
      "Epoch 44/45\n",
      "594/594 [==============================] - 3s 5ms/step - loss: 0.3988 - accuracy: 0.8470 - val_loss: 0.3973 - val_accuracy: 0.8579\n",
      "Epoch 45/45\n",
      "594/594 [==============================] - 3s 5ms/step - loss: 0.3985 - accuracy: 0.8483 - val_loss: 0.3965 - val_accuracy: 0.8475\n"
     ]
    }
   ],
   "source": [
    "r = model.fit(train_features, train_labels, validation_data=(test_features, test_labels), epochs=45)\n"
   ]
  },
  {
   "cell_type": "code",
   "execution_count": 589,
   "metadata": {},
   "outputs": [
    {
     "data": {
      "image/png": "[encoded data removed]",
      "text/plain": [
       "<Figure size 1080x720 with 1 Axes>"
      ]
     },
     "metadata": {
      "needs_background": "light"
     },
     "output_type": "display_data"
    }
   ],
   "source": [
    "def plot_loss(history):\n",
    "    plt.figure(figsize=(15, 10))\n",
    "    plt.plot(history.history['accuracy'], label='accuracy')\n",
    "    plt.plot(history.history['val_accuracy'], label='val_accuracy')\n",
    "    plt.xlabel('Epoch')\n",
    "    plt.ylabel('Accuracy')\n",
    "    plt.legend()\n",
    "    plt.grid(True)\n",
    "    plt.show()\n",
    "    \n",
    "plot_loss(r)"
   ]
  },
  {
   "cell_type": "code",
   "execution_count": 69,
   "metadata": {},
   "outputs": [],
   "source": [
    "test = pd.read_csv('test.csv')\n",
    "test = test.applymap(lambda x: x.strip() if isinstance(x, str) else x)\n",
    "test = test.replace('?', np.nan)\n",
    "\n",
    "# test = pd.get_dummies(test, columns=['position'], prefix='position')\n",
    "# test = pd.get_dummies(test, columns=['native-country'], prefix='country')\n",
    "# test = pd.get_dummies(test, columns=['work-class'], prefix='work')\n",
    "# test = pd.get_dummies(test, columns=['marital-status'], prefix='marital')\n",
    "# test = pd.get_dummies(test, columns=['relationship'], prefix='relationship')\n",
    "# test = pd.get_dummies(test, columns=['race'], prefix='race')\n",
    "# test = pd.get_dummies(test, columns=['sex'], prefix='sex')\n",
    "\n",
    "test['position_encoded'] = test['position'].map(position_mapping)\n",
    "test.drop('position', axis=1, inplace=True)\n",
    "\n",
    "test['work-class_encoded'] = test['work-class'].map(workclass_mapping)\n",
    "test.drop('work-class', axis=1, inplace=True)\n",
    "\n",
    "test['marital-status_encoded'] = test['marital-status'].map(marital_status_mapping)\n",
    "test.drop('marital-status', axis=1, inplace=True)\n",
    "\n",
    "test['relationship_encoded'] = test['relationship'].map(relationship_mapping)\n",
    "test.drop('relationship', axis=1, inplace=True)\n",
    "\n",
    "test['race_encoded'] = test['race'].map(race_mapping)\n",
    "test.drop('race', axis=1, inplace=True)\n",
    "\n",
    "test['sex_encoded'] = test['sex'].map(sex_mapping)\n",
    "test.drop('sex', axis=1, inplace=True)\n",
    "\n",
    "test['native-country_encoded'] = test['native-country'].map(native_country_mapping)\n",
    "test.drop('native-country', axis=1, inplace=True)\n",
    "\n",
    "test = test.drop('education', axis=1)\n"
   ]
  },
  {
   "cell_type": "code",
   "execution_count": null,
   "metadata": {},
   "outputs": [],
   "source": [
    "from sklearn.model_selection import GridSearchCV\n",
    "from xgboost import XGBClassifier\n",
    "\n",
    "param_grid = {\n",
    "    'reg_lambda': [0.1, 0.4, 0.7],\n",
    "    'reg_alpha': [0.1, 1.6, 3.0],\n",
    "    'max_depth': [3, 5, 7],\n",
    "    'learning_rate': [0.1, 0.15, 0.2],\n",
    "    'gamma': [0.5, 1, 1.5]\n",
    "}\n",
    "\n",
    "model = XGBClassifier()\n",
    "\n",
    "grid_search = GridSearchCV(model, param_grid, cv=5, scoring='accuracy')\n",
    "\n",
    "grid_search.fit(train_features, train_labels)\n",
    "\n",
    "print(grid_search.best_params_)\n"
   ]
  },
  {
   "cell_type": "code",
   "execution_count": 23,
   "metadata": {},
   "outputs": [
    {
     "name": "stdout",
     "output_type": "stream",
     "text": [
      "Accuracy: 0.87\n",
      "F1 Score: 0.72\n"
     ]
    }
   ],
   "source": [
    "from sklearn.metrics import accuracy_score, f1_score\n",
    "from xgboost import XGBClassifier\n",
    "\n",
    "xgb = XGBClassifier(reg_lambda=0.4, reg_alpha=1.6, max_depth=7, learning_rate=0.15, gamma=1)\n",
    "\n",
    "xgb.fit(train_features, train_labels)\n",
    "\n",
    "y_pred = xgb.predict(test_features)\n",
    "accuracy = accuracy_score(test_labels, y_pred)\n",
    "f1 = f1_score(test_labels, y_pred)\n",
    "\n",
    "print(f\"Accuracy: {accuracy:.2f}\")\n",
    "print(f\"F1 Score: {f1:.2f}\")"
   ]
  },
  {
   "cell_type": "code",
   "execution_count": 662,
   "metadata": {},
   "outputs": [],
   "source": [
    "y_pred = xgb.predict(test)\n",
    "\n",
    "predictions_df = pd.DataFrame({\"salary\": y_pred})\n",
    "\n",
    "predictions_df[\"salary\"] = predictions_df[\"salary\"].apply(lambda x: \" >50K\" if x == 1 else \" <=50K\")  # Add leading space and change values to strings\n",
    "\n",
    "predictions_df.to_csv(\"submission.csv\", index_label=\"index\")"
   ]
  },
  {
   "cell_type": "code",
   "execution_count": 592,
   "metadata": {},
   "outputs": [
    {
     "name": "stdout",
     "output_type": "stream",
     "text": [
      "306/306 [==============================] - 1s 2ms/step\n"
     ]
    }
   ],
   "source": [
    "predictions = model.predict(test)\n",
    "predictions = np.argmax(predictions, axis=1)"
   ]
  },
  {
   "cell_type": "code",
   "execution_count": 593,
   "metadata": {},
   "outputs": [],
   "source": [
    "submission = pd.DataFrame({'index': test.index, 'salary': predictions})\n",
    "\n",
    "submission['salary'].replace([0, 1], ['<=50K', '>50K'], inplace=True)\n",
    "\n",
    "submission.to_csv('submission.csv', index=False)\n"
   ]
  },
  {
   "cell_type": "code",
   "execution_count": 594,
   "metadata": {},
   "outputs": [],
   "source": [
    "df = pd.read_csv('submission.csv')\n",
    "\n",
    "df['salary'] = df['salary'].apply(lambda x: ' ' + x)\n",
    "\n",
    "# Save the modified DataFrame to a new CSV file\n",
    "df.to_csv('modified_file.csv', index=False)"
   ]
  }
 ],
 "metadata": {
  "kernelspec": {
   "display_name": "Python 3.9.2 64-bit",
   "language": "python",
   "name": "python3"
  },
  "language_info": {
   "codemirror_mode": {
    "name": "ipython",
    "version": 3
   },
   "file_extension": ".py",
   "mimetype": "text/x-python",
   "name": "python",
   "nbconvert_exporter": "python",
   "pygments_lexer": "ipython3",
   "version": "3.9.2"
  },
  "orig_nbformat": 4,
  "vscode": {
   "interpreter": {
    "hash": "8f8cf99212f81ad0c4765861267244807ee1c18364846cdce387b28994a977ba"
   }
  }
 },
 "nbformat": 4,
 "nbformat_minor": 2
}
